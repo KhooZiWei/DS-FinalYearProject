{
 "cells": [
  {
   "cell_type": "markdown",
   "id": "z2KezCMigWKZ",
   "metadata": {
    "id": "z2KezCMigWKZ"
   },
   "source": [
    "# **Pls refer this code**\n",
    "\n",
    "https://www.kaggle.com/code/siddharthkumar25/detect-malicious-url-using-ml/notebook"
   ]
  },
  {
   "cell_type": "code",
   "execution_count": 1,
   "id": "9b6e6684",
   "metadata": {
    "id": "9b6e6684"
   },
   "outputs": [],
   "source": [
    "# Import libraries\n",
    "\n",
    "import re\n",
    "import pandas as pd\n",
    "import numpy as np\n",
    "import seaborn as sns\n",
    "import matplotlib.pyplot as plt"
   ]
  },
  {
   "cell_type": "code",
   "execution_count": 2,
   "id": "3e55fbb4",
   "metadata": {
    "colab": {
     "base_uri": "https://localhost:8080/",
     "height": 206
    },
    "id": "3e55fbb4",
    "outputId": "00e1a35d-029b-4fec-d854-c84f88bdf48f"
   },
   "outputs": [
    {
     "data": {
      "text/html": [
       "<div>\n",
       "<style scoped>\n",
       "    .dataframe tbody tr th:only-of-type {\n",
       "        vertical-align: middle;\n",
       "    }\n",
       "\n",
       "    .dataframe tbody tr th {\n",
       "        vertical-align: top;\n",
       "    }\n",
       "\n",
       "    .dataframe thead th {\n",
       "        text-align: right;\n",
       "    }\n",
       "</style>\n",
       "<table border=\"1\" class=\"dataframe\">\n",
       "  <thead>\n",
       "    <tr style=\"text-align: right;\">\n",
       "      <th></th>\n",
       "      <th>url</th>\n",
       "      <th>type</th>\n",
       "    </tr>\n",
       "  </thead>\n",
       "  <tbody>\n",
       "    <tr>\n",
       "      <th>0</th>\n",
       "      <td>br-icloud.com.br</td>\n",
       "      <td>phishing</td>\n",
       "    </tr>\n",
       "    <tr>\n",
       "      <th>1</th>\n",
       "      <td>mp3raid.com/music/krizz_kaliko.html</td>\n",
       "      <td>benign</td>\n",
       "    </tr>\n",
       "    <tr>\n",
       "      <th>2</th>\n",
       "      <td>bopsecrets.org/rexroth/cr/1.htm</td>\n",
       "      <td>benign</td>\n",
       "    </tr>\n",
       "    <tr>\n",
       "      <th>3</th>\n",
       "      <td>http://www.garage-pirenne.be/index.php?option=...</td>\n",
       "      <td>defacement</td>\n",
       "    </tr>\n",
       "    <tr>\n",
       "      <th>4</th>\n",
       "      <td>http://adventure-nicaragua.net/index.php?optio...</td>\n",
       "      <td>defacement</td>\n",
       "    </tr>\n",
       "    <tr>\n",
       "      <th>5</th>\n",
       "      <td>http://buzzfil.net/m/show-art/ils-etaient-loin...</td>\n",
       "      <td>benign</td>\n",
       "    </tr>\n",
       "    <tr>\n",
       "      <th>6</th>\n",
       "      <td>espn.go.com/nba/player/_/id/3457/brandon-rush</td>\n",
       "      <td>benign</td>\n",
       "    </tr>\n",
       "    <tr>\n",
       "      <th>7</th>\n",
       "      <td>yourbittorrent.com/?q=anthony-hamilton-soulife</td>\n",
       "      <td>benign</td>\n",
       "    </tr>\n",
       "    <tr>\n",
       "      <th>8</th>\n",
       "      <td>http://www.pashminaonline.com/pure-pashminas</td>\n",
       "      <td>defacement</td>\n",
       "    </tr>\n",
       "    <tr>\n",
       "      <th>9</th>\n",
       "      <td>allmusic.com/album/crazy-from-the-heat-r16990</td>\n",
       "      <td>benign</td>\n",
       "    </tr>\n",
       "  </tbody>\n",
       "</table>\n",
       "</div>"
      ],
      "text/plain": [
       "                                                 url        type\n",
       "0                                   br-icloud.com.br    phishing\n",
       "1                mp3raid.com/music/krizz_kaliko.html      benign\n",
       "2                    bopsecrets.org/rexroth/cr/1.htm      benign\n",
       "3  http://www.garage-pirenne.be/index.php?option=...  defacement\n",
       "4  http://adventure-nicaragua.net/index.php?optio...  defacement\n",
       "5  http://buzzfil.net/m/show-art/ils-etaient-loin...      benign\n",
       "6      espn.go.com/nba/player/_/id/3457/brandon-rush      benign\n",
       "7     yourbittorrent.com/?q=anthony-hamilton-soulife      benign\n",
       "8       http://www.pashminaonline.com/pure-pashminas  defacement\n",
       "9      allmusic.com/album/crazy-from-the-heat-r16990      benign"
      ]
     },
     "execution_count": 2,
     "metadata": {},
     "output_type": "execute_result"
    }
   ],
   "source": [
    "# Load dataset 1\n",
    "\n",
    "data1 = pd.read_csv(\"malicious_phish.csv\")\n",
    "data1.head(10)"
   ]
  },
  {
   "cell_type": "code",
   "execution_count": 3,
   "id": "c593abbd",
   "metadata": {
    "colab": {
     "base_uri": "https://localhost:8080/"
    },
    "id": "c593abbd",
    "outputId": "806830ae-ad6d-4d88-8feb-8f742da82d45"
   },
   "outputs": [
    {
     "name": "stdout",
     "output_type": "stream",
     "text": [
      "<class 'pandas.core.frame.DataFrame'>\n",
      "RangeIndex: 651191 entries, 0 to 651190\n",
      "Data columns (total 2 columns):\n",
      " #   Column  Non-Null Count   Dtype \n",
      "---  ------  --------------   ----- \n",
      " 0   url     651191 non-null  object\n",
      " 1   type    651191 non-null  object\n",
      "dtypes: object(2)\n",
      "memory usage: 9.9+ MB\n"
     ]
    }
   ],
   "source": [
    "data1.info()"
   ]
  },
  {
   "cell_type": "code",
   "execution_count": 4,
   "id": "oKx5577YLrFX",
   "metadata": {
    "colab": {
     "base_uri": "https://localhost:8080/"
    },
    "id": "oKx5577YLrFX",
    "outputId": "86c1980d-fea9-4c88-b0e9-786b89da3a71"
   },
   "outputs": [
    {
     "name": "stdout",
     "output_type": "stream",
     "text": [
      "['phishing' 'benign' 'defacement' 'malware']\n"
     ]
    }
   ],
   "source": [
    "# Show the types of URL in Dataset 1\n",
    "\n",
    "unique_classes_1 = data1['type'].unique()\n",
    "print(unique_classes_1)"
   ]
  },
  {
   "cell_type": "code",
   "execution_count": 5,
   "id": "e918873d",
   "metadata": {
    "colab": {
     "base_uri": "https://localhost:8080/",
     "height": 206
    },
    "id": "e918873d",
    "outputId": "5bb806e2-1dd3-4a80-b8f5-02e90e4789b8"
   },
   "outputs": [
    {
     "data": {
      "text/html": [
       "<div>\n",
       "<style scoped>\n",
       "    .dataframe tbody tr th:only-of-type {\n",
       "        vertical-align: middle;\n",
       "    }\n",
       "\n",
       "    .dataframe tbody tr th {\n",
       "        vertical-align: top;\n",
       "    }\n",
       "\n",
       "    .dataframe thead th {\n",
       "        text-align: right;\n",
       "    }\n",
       "</style>\n",
       "<table border=\"1\" class=\"dataframe\">\n",
       "  <thead>\n",
       "    <tr style=\"text-align: right;\">\n",
       "      <th></th>\n",
       "      <th>URL</th>\n",
       "      <th>Label</th>\n",
       "    </tr>\n",
       "  </thead>\n",
       "  <tbody>\n",
       "    <tr>\n",
       "      <th>0</th>\n",
       "      <td>nobell.it/70ffb52d079109dca5664cce6f317373782/...</td>\n",
       "      <td>bad</td>\n",
       "    </tr>\n",
       "    <tr>\n",
       "      <th>1</th>\n",
       "      <td>www.dghjdgf.com/paypal.co.uk/cycgi-bin/webscrc...</td>\n",
       "      <td>bad</td>\n",
       "    </tr>\n",
       "    <tr>\n",
       "      <th>2</th>\n",
       "      <td>serviciosbys.com/paypal.cgi.bin.get-into.herf....</td>\n",
       "      <td>bad</td>\n",
       "    </tr>\n",
       "    <tr>\n",
       "      <th>3</th>\n",
       "      <td>mail.printakid.com/www.online.americanexpress....</td>\n",
       "      <td>bad</td>\n",
       "    </tr>\n",
       "    <tr>\n",
       "      <th>4</th>\n",
       "      <td>thewhiskeydregs.com/wp-content/themes/widescre...</td>\n",
       "      <td>bad</td>\n",
       "    </tr>\n",
       "    <tr>\n",
       "      <th>5</th>\n",
       "      <td>smilesvoegol.servebbs.org/voegol.php</td>\n",
       "      <td>bad</td>\n",
       "    </tr>\n",
       "    <tr>\n",
       "      <th>6</th>\n",
       "      <td>premierpaymentprocessing.com/includes/boleto-2...</td>\n",
       "      <td>bad</td>\n",
       "    </tr>\n",
       "    <tr>\n",
       "      <th>7</th>\n",
       "      <td>myxxxcollection.com/v1/js/jih321/bpd.com.do/do...</td>\n",
       "      <td>bad</td>\n",
       "    </tr>\n",
       "    <tr>\n",
       "      <th>8</th>\n",
       "      <td>super1000.info/docs</td>\n",
       "      <td>bad</td>\n",
       "    </tr>\n",
       "    <tr>\n",
       "      <th>9</th>\n",
       "      <td>horizonsgallery.com/js/bin/ssl1/_id/www.paypal...</td>\n",
       "      <td>bad</td>\n",
       "    </tr>\n",
       "  </tbody>\n",
       "</table>\n",
       "</div>"
      ],
      "text/plain": [
       "                                                 URL Label\n",
       "0  nobell.it/70ffb52d079109dca5664cce6f317373782/...   bad\n",
       "1  www.dghjdgf.com/paypal.co.uk/cycgi-bin/webscrc...   bad\n",
       "2  serviciosbys.com/paypal.cgi.bin.get-into.herf....   bad\n",
       "3  mail.printakid.com/www.online.americanexpress....   bad\n",
       "4  thewhiskeydregs.com/wp-content/themes/widescre...   bad\n",
       "5               smilesvoegol.servebbs.org/voegol.php   bad\n",
       "6  premierpaymentprocessing.com/includes/boleto-2...   bad\n",
       "7  myxxxcollection.com/v1/js/jih321/bpd.com.do/do...   bad\n",
       "8                                super1000.info/docs   bad\n",
       "9  horizonsgallery.com/js/bin/ssl1/_id/www.paypal...   bad"
      ]
     },
     "execution_count": 5,
     "metadata": {},
     "output_type": "execute_result"
    }
   ],
   "source": [
    "# Load dataset 2\n",
    "\n",
    "data2 = pd.read_csv(\"phishing_site_urls.csv\")\n",
    "data2.head(10)"
   ]
  },
  {
   "cell_type": "code",
   "execution_count": 6,
   "id": "89db9d4c",
   "metadata": {
    "colab": {
     "base_uri": "https://localhost:8080/"
    },
    "id": "89db9d4c",
    "outputId": "ea5adfa7-f1f7-4e5d-c652-9e58a07358b9"
   },
   "outputs": [
    {
     "name": "stdout",
     "output_type": "stream",
     "text": [
      "<class 'pandas.core.frame.DataFrame'>\n",
      "RangeIndex: 549346 entries, 0 to 549345\n",
      "Data columns (total 2 columns):\n",
      " #   Column  Non-Null Count   Dtype \n",
      "---  ------  --------------   ----- \n",
      " 0   URL     549346 non-null  object\n",
      " 1   Label   549346 non-null  object\n",
      "dtypes: object(2)\n",
      "memory usage: 8.4+ MB\n"
     ]
    }
   ],
   "source": [
    "data2.info()"
   ]
  },
  {
   "cell_type": "code",
   "execution_count": 7,
   "id": "BACj-XQdMIpO",
   "metadata": {
    "colab": {
     "base_uri": "https://localhost:8080/"
    },
    "id": "BACj-XQdMIpO",
    "outputId": "239d0592-ca2b-4341-ce00-020db65cec35"
   },
   "outputs": [
    {
     "name": "stdout",
     "output_type": "stream",
     "text": [
      "['bad' 'good']\n"
     ]
    }
   ],
   "source": [
    "# Show the types of URL in Dataset 2\n",
    "\n",
    "unique_classes_2 = data2['Label'].unique()\n",
    "print(unique_classes_2)"
   ]
  },
  {
   "cell_type": "markdown",
   "id": "366d9e45",
   "metadata": {
    "id": "366d9e45"
   },
   "source": [
    "### **Data preprocessing**"
   ]
  },
  {
   "cell_type": "markdown",
   "id": "P9Y9tj46UoYA",
   "metadata": {
    "id": "P9Y9tj46UoYA"
   },
   "source": [
    "Data cleaning"
   ]
  },
  {
   "cell_type": "code",
   "execution_count": 8,
   "id": "VwQ3B28BN2-H",
   "metadata": {
    "colab": {
     "base_uri": "https://localhost:8080/"
    },
    "id": "VwQ3B28BN2-H",
    "outputId": "0ef2103f-2b83-4e20-cd7f-87df1d167f7e"
   },
   "outputs": [
    {
     "name": "stdout",
     "output_type": "stream",
     "text": [
      "url     0\n",
      "type    0\n",
      "dtype: int64\n"
     ]
    }
   ],
   "source": [
    "# Check for null values in Dataset 1\n",
    "null_values_1 = data1.isnull().sum()\n",
    "\n",
    "# Print the columns with null values (if any) and their respective counts\n",
    "print(null_values_1)"
   ]
  },
  {
   "cell_type": "code",
   "execution_count": 9,
   "id": "S4aVVFKnRTaL",
   "metadata": {
    "colab": {
     "base_uri": "https://localhost:8080/"
    },
    "id": "S4aVVFKnRTaL",
    "outputId": "fc9d2697-bcca-4466-e84e-35e76d6c72df"
   },
   "outputs": [
    {
     "name": "stdout",
     "output_type": "stream",
     "text": [
      "URL      0\n",
      "Label    0\n",
      "dtype: int64\n"
     ]
    }
   ],
   "source": [
    "# Check for null values in Dataset 2\n",
    "null_values_2 = data2.isnull().sum()\n",
    "\n",
    "# Print the columns with null values (if any) and their respective counts\n",
    "print(null_values_2)"
   ]
  },
  {
   "cell_type": "code",
   "execution_count": 10,
   "id": "fvoOjjePVjSg",
   "metadata": {
    "colab": {
     "base_uri": "https://localhost:8080/"
    },
    "id": "fvoOjjePVjSg",
    "outputId": "b7b830f3-41a8-4de5-8a0b-a820e7242531"
   },
   "outputs": [
    {
     "name": "stdout",
     "output_type": "stream",
     "text": [
      "                                                      url        type\n",
      "876     http://9779.info/%E4%BA%94%E8%B0%B7%E6%9D%82%E...     malware\n",
      "1361    http://portal.dddgaming.com/docs/rules/15022/c...     malware\n",
      "1822    http://www.824555.com/app/member/SportOption.p...     malware\n",
      "1989    http://chinacxyy.com/newscodejs.asp?lm2=201&li...     malware\n",
      "2963    http://www.bruynzeelmultipanel.be/index.php?op...  defacement\n",
      "...                                                   ...         ...\n",
      "535215       http://www.habbocreditosparati.blogspot.com/    phishing\n",
      "535217  http://mundovirtualhabbo.blogspot.com/2009_01_...    phishing\n",
      "535218  http://aijcs.blogspot.com/2005/03/colourful-li...    phishing\n",
      "590597                             bin/webscr?cmd=_login-      benign\n",
      "600368  'www.allegropl.xaa.pl/enter_login.html?session...      benign\n",
      "\n",
      "[10066 rows x 2 columns]\n"
     ]
    }
   ],
   "source": [
    "# Check for duplicate rows in Dataset 1\n",
    "duplicate_rows_1 = data1[data1.duplicated()]\n",
    "\n",
    "# Print the duplicate rows (if any)\n",
    "print(duplicate_rows_1)"
   ]
  },
  {
   "cell_type": "code",
   "execution_count": 11,
   "id": "g3PMoG-5Vxdf",
   "metadata": {
    "colab": {
     "base_uri": "https://localhost:8080/"
    },
    "id": "g3PMoG-5Vxdf",
    "outputId": "e703a3f1-0f42-4b69-f882-6f98cd69d92c"
   },
   "outputs": [
    {
     "name": "stdout",
     "output_type": "stream",
     "text": [
      "(641125, 2)\n"
     ]
    }
   ],
   "source": [
    "# Remove duplicate rows from Dataset 1\n",
    "data1 = data1.drop_duplicates()\n",
    "\n",
    "# Verify that duplicates are removed by checking the shape of the DataFrame\n",
    "print(data1.shape)"
   ]
  },
  {
   "cell_type": "code",
   "execution_count": 12,
   "id": "2b6cda2e",
   "metadata": {
    "colab": {
     "base_uri": "https://localhost:8080/"
    },
    "id": "2b6cda2e",
    "outputId": "239c03e1-53fd-45e5-db3a-d385a5bafb5a"
   },
   "outputs": [
    {
     "name": "stdout",
     "output_type": "stream",
     "text": [
      "                                                      URL Label\n",
      "35413                              bin/webscr?cmd=_login-   bad\n",
      "45184   'www.allegropl.xaa.pl/enter_login.html?session...   bad\n",
      "96132                       stormpages.com/script/PHP.txt   bad\n",
      "96449          penwithian.co.uk/hyperventilate/sporran.js   bad\n",
      "96480                            ukonline.hc0.me/Host.exe   bad\n",
      "...                                                   ...   ...\n",
      "549341                                    23.227.196.215/   bad\n",
      "549342                                 apple-checker.org/   bad\n",
      "549343                                  apple-iclods.org/   bad\n",
      "549344                                 apple-uptoday.org/   bad\n",
      "549345                                  apple-search.info   bad\n",
      "\n",
      "[42150 rows x 2 columns]\n"
     ]
    }
   ],
   "source": [
    "# Check for duplicate rows in Dataset 2\n",
    "duplicate_rows_2 = data2[data2.duplicated()]\n",
    "\n",
    "# Print the duplicate rows (if any)\n",
    "print(duplicate_rows_2)"
   ]
  },
  {
   "cell_type": "code",
   "execution_count": 13,
   "id": "SdlTusWjXXgw",
   "metadata": {
    "colab": {
     "base_uri": "https://localhost:8080/"
    },
    "id": "SdlTusWjXXgw",
    "outputId": "3a75e8dd-ab30-4ba9-c9b1-4a2ee21427cb"
   },
   "outputs": [
    {
     "name": "stdout",
     "output_type": "stream",
     "text": [
      "(507196, 2)\n"
     ]
    }
   ],
   "source": [
    "# Remove duplicate rows from Dataset 2\n",
    "data2 = data2.drop_duplicates()\n",
    "\n",
    "# Verify that duplicates are removed by checking the shape of the DataFrame\n",
    "print(data2.shape)"
   ]
  },
  {
   "cell_type": "markdown",
   "id": "07vcpS8hUu-B",
   "metadata": {
    "id": "07vcpS8hUu-B"
   },
   "source": [
    "Determining Imbalance data"
   ]
  },
  {
   "cell_type": "code",
   "execution_count": 14,
   "id": "ec5203d2",
   "metadata": {
    "colab": {
     "base_uri": "https://localhost:8080/"
    },
    "id": "ec5203d2",
    "outputId": "b82fd915-549d-47a3-fa3a-27dbcd1047ce"
   },
   "outputs": [
    {
     "name": "stdout",
     "output_type": "stream",
     "text": [
      "type\n",
      "benign        428080\n",
      "defacement     95308\n",
      "phishing       94092\n",
      "malware        23645\n",
      "Name: count, dtype: int64\n"
     ]
    }
   ],
   "source": [
    "# Check the distribution of classes in the \"type\" column for Dataset 1\n",
    "class_distribution_1 = data1['type'].value_counts()\n",
    "\n",
    "# Print the class distribution\n",
    "print(class_distribution_1)"
   ]
  },
  {
   "cell_type": "code",
   "execution_count": 15,
   "id": "_LCt-sZC2SYF",
   "metadata": {
    "colab": {
     "base_uri": "https://localhost:8080/"
    },
    "id": "_LCt-sZC2SYF",
    "outputId": "5433b87d-a8f4-40b4-a829-b5f29552a517"
   },
   "outputs": [
    {
     "name": "stdout",
     "output_type": "stream",
     "text": [
      "type\n",
      "benign        66.770131\n",
      "defacement    14.865744\n",
      "phishing      14.676077\n",
      "malware        3.688048\n",
      "Name: count, dtype: float64\n"
     ]
    }
   ],
   "source": [
    "# Calculate the class distribution as a percentage for Dataset 1\n",
    "class_distribution_percentage_1 = (data1['type'].value_counts() / len(data1)) * 100\n",
    "\n",
    "# Print the class distribution as a percentage\n",
    "print(class_distribution_percentage_1)"
   ]
  },
  {
   "cell_type": "code",
   "execution_count": 16,
   "id": "zm4x0qM427Pz",
   "metadata": {
    "colab": {
     "base_uri": "https://localhost:8080/",
     "height": 521
    },
    "id": "zm4x0qM427Pz",
    "outputId": "65430432-b2c7-4705-eae8-6dc69a46a094"
   },
   "outputs": [
    {
     "data": {
      "image/png": "[encoded data removed]",
      "text/plain": [
       "<Figure size 600x600 with 1 Axes>"
      ]
     },
     "metadata": {},
     "output_type": "display_data"
    }
   ],
   "source": [
    "custom_colors = ['#4682A9', '#7895CB', '#A0BFE0' ,'#98E4FF']\n",
    "\n",
    "# Create a pie chart for Dataset 1\n",
    "plt.figure(figsize=(6, 6))\n",
    "plt.pie(class_distribution_1, autopct='%1.1f%%', startangle=140, colors=custom_colors)\n",
    "plt.title('Class Distribution in Dataset 1')\n",
    "\n",
    "# Create a legend\n",
    "plt.legend(title='Class', labels=class_distribution_1.index, loc='best', bbox_to_anchor=(1, 0.5))\n",
    "\n",
    "plt.axis('equal')\n",
    "plt.show()"
   ]
  },
  {
   "cell_type": "code",
   "execution_count": 17,
   "id": "h7ptiMOs4zps",
   "metadata": {
    "colab": {
     "base_uri": "https://localhost:8080/"
    },
    "id": "h7ptiMOs4zps",
    "outputId": "0bb7f59e-f7c9-47d8-e444-6cc128ac2792"
   },
   "outputs": [
    {
     "name": "stdout",
     "output_type": "stream",
     "text": [
      "Label\n",
      "good    392897\n",
      "bad     114299\n",
      "Name: count, dtype: int64\n"
     ]
    }
   ],
   "source": [
    "# Check the distribution of classes in the \"Label\" column for Dataset 2\n",
    "class_distribution_2 = data2['Label'].value_counts()\n",
    "\n",
    "# Print the class distribution\n",
    "print(class_distribution_2)"
   ]
  },
  {
   "cell_type": "code",
   "execution_count": 18,
   "id": "T3L18cMG42p-",
   "metadata": {
    "colab": {
     "base_uri": "https://localhost:8080/"
    },
    "id": "T3L18cMG42p-",
    "outputId": "47066751-c779-43ff-eae4-9fc28953ce71"
   },
   "outputs": [
    {
     "name": "stdout",
     "output_type": "stream",
     "text": [
      "Label\n",
      "good    77.46453\n",
      "bad     22.53547\n",
      "Name: count, dtype: float64\n"
     ]
    }
   ],
   "source": [
    "# Calculate the class distribution as a percentage for Dataset 2\n",
    "class_distribution_percentage_2 = (data2['Label'].value_counts() / len(data2)) * 100\n",
    "\n",
    "# Print the class distribution as a percentage\n",
    "print(class_distribution_percentage_2)"
   ]
  },
  {
   "cell_type": "code",
   "execution_count": 19,
   "id": "9Dy3g45544pO",
   "metadata": {
    "colab": {
     "base_uri": "https://localhost:8080/",
     "height": 521
    },
    "id": "9Dy3g45544pO",
    "outputId": "bdc87ec0-8198-47da-f344-d99c003348df"
   },
   "outputs": [
    {
     "data": {
      "image/png": "[encoded data removed]",
      "text/plain": [
       "<Figure size 600x600 with 1 Axes>"
      ]
     },
     "metadata": {},
     "output_type": "display_data"
    }
   ],
   "source": [
    "custom_colors = ['#4682A9', '#98E4FF']\n",
    "\n",
    "# Create a pie chart for Dataset 2\n",
    "plt.figure(figsize=(6, 6))\n",
    "plt.pie(class_distribution_2, autopct='%1.1f%%', startangle=140, colors=custom_colors)\n",
    "plt.title('Class Distribution in Dataset 2')\n",
    "\n",
    "# Create a legend\n",
    "plt.legend(title='Class', labels=class_distribution_2.index, loc='best', bbox_to_anchor=(1, 0.5))\n",
    "\n",
    "plt.axis('equal')\n",
    "plt.show()"
   ]
  },
  {
   "cell_type": "markdown",
   "id": "4fb6b6a0",
   "metadata": {
    "id": "4fb6b6a0"
   },
   "source": [
    "Label Encoding"
   ]
  },
  {
   "cell_type": "code",
   "execution_count": 20,
   "id": "430a32cd",
   "metadata": {
    "colab": {
     "base_uri": "https://localhost:8080/"
    },
    "id": "430a32cd",
    "outputId": "64449cf5-e3aa-4881-df40-e17c66f6e709"
   },
   "outputs": [
    {
     "name": "stdout",
     "output_type": "stream",
     "text": [
      "                                                      url  type\n",
      "0                                        br-icloud.com.br     2\n",
      "1                     mp3raid.com/music/krizz_kaliko.html     0\n",
      "2                         bopsecrets.org/rexroth/cr/1.htm     0\n",
      "3       http://www.garage-pirenne.be/index.php?option=...     1\n",
      "4       http://adventure-nicaragua.net/index.php?optio...     1\n",
      "...                                                   ...   ...\n",
      "651186            xbox360.ign.com/objects/850/850402.html     2\n",
      "651187       games.teamxbox.com/xbox-360/1860/Dead-Space/     2\n",
      "651188         www.gamespot.com/xbox360/action/deadspace/     2\n",
      "651189      en.wikipedia.org/wiki/Dead_Space_(video_game)     2\n",
      "651190          www.angelfire.com/goth/devilmaycrytonite/     2\n",
      "\n",
      "[641125 rows x 2 columns]\n"
     ]
    }
   ],
   "source": [
    "# Create a mapping of encoded values to class names for Dataset 1\n",
    "encoded_to_class_1 = {'benign': 0, 'defacement': 1, 'phishing': 2, 'malware': 3}\n",
    "\n",
    "# Map the 'type_encoded' column to class names\n",
    "data1['type_encoded'] = data1['type'].map(encoded_to_class_1)\n",
    "\n",
    "# Display the DataFrame with the 'type' column removed\n",
    "data1 = data1.drop(columns=['type'])\n",
    "\n",
    "# Rename the 'type_encoded' column to 'type'\n",
    "data1.rename(columns={'type_encoded': 'type'}, inplace=True)\n",
    "\n",
    "# Print the updated Dataset 1\n",
    "print(data1)"
   ]
  },
  {
   "cell_type": "code",
   "execution_count": 21,
   "id": "j_jjciJVZZuo",
   "metadata": {
    "colab": {
     "base_uri": "https://localhost:8080/"
    },
    "id": "j_jjciJVZZuo",
    "outputId": "5d593cf8-454b-4597-f2c7-12b60d53ad31"
   },
   "outputs": [
    {
     "name": "stdout",
     "output_type": "stream",
     "text": [
      "type\n",
      "0    428080\n",
      "1     95308\n",
      "2     94092\n",
      "3     23645\n",
      "Name: count, dtype: int64\n"
     ]
    }
   ],
   "source": [
    "# Get the counts for each class in the 'type' column in Dataset 1\n",
    "class_counts_1 = data1['type'].value_counts()\n",
    "\n",
    "# Print the class counts\n",
    "print(class_counts_1)"
   ]
  },
  {
   "cell_type": "code",
   "execution_count": 22,
   "id": "e5fdc604",
   "metadata": {
    "id": "e5fdc604",
    "outputId": "2953d3a2-c8d8-43cf-de52-22e60e1a4b5b"
   },
   "outputs": [
    {
     "data": {
      "text/html": [
       "<div>\n",
       "<style scoped>\n",
       "    .dataframe tbody tr th:only-of-type {\n",
       "        vertical-align: middle;\n",
       "    }\n",
       "\n",
       "    .dataframe tbody tr th {\n",
       "        vertical-align: top;\n",
       "    }\n",
       "\n",
       "    .dataframe thead th {\n",
       "        text-align: right;\n",
       "    }\n",
       "</style>\n",
       "<table border=\"1\" class=\"dataframe\">\n",
       "  <thead>\n",
       "    <tr style=\"text-align: right;\">\n",
       "      <th></th>\n",
       "      <th>url</th>\n",
       "      <th>type</th>\n",
       "    </tr>\n",
       "  </thead>\n",
       "  <tbody>\n",
       "    <tr>\n",
       "      <th>0</th>\n",
       "      <td>br-icloud.com.br</td>\n",
       "      <td>2</td>\n",
       "    </tr>\n",
       "    <tr>\n",
       "      <th>1</th>\n",
       "      <td>mp3raid.com/music/krizz_kaliko.html</td>\n",
       "      <td>0</td>\n",
       "    </tr>\n",
       "    <tr>\n",
       "      <th>2</th>\n",
       "      <td>bopsecrets.org/rexroth/cr/1.htm</td>\n",
       "      <td>0</td>\n",
       "    </tr>\n",
       "    <tr>\n",
       "      <th>3</th>\n",
       "      <td>http://www.garage-pirenne.be/index.php?option=...</td>\n",
       "      <td>1</td>\n",
       "    </tr>\n",
       "    <tr>\n",
       "      <th>4</th>\n",
       "      <td>http://adventure-nicaragua.net/index.php?optio...</td>\n",
       "      <td>1</td>\n",
       "    </tr>\n",
       "  </tbody>\n",
       "</table>\n",
       "</div>"
      ],
      "text/plain": [
       "                                                 url  type\n",
       "0                                   br-icloud.com.br     2\n",
       "1                mp3raid.com/music/krizz_kaliko.html     0\n",
       "2                    bopsecrets.org/rexroth/cr/1.htm     0\n",
       "3  http://www.garage-pirenne.be/index.php?option=...     1\n",
       "4  http://adventure-nicaragua.net/index.php?optio...     1"
      ]
     },
     "execution_count": 22,
     "metadata": {},
     "output_type": "execute_result"
    }
   ],
   "source": [
    "data1.head()"
   ]
  },
  {
   "cell_type": "code",
   "execution_count": 23,
   "id": "YEIAkMSebXhp",
   "metadata": {
    "colab": {
     "base_uri": "https://localhost:8080/"
    },
    "id": "YEIAkMSebXhp",
    "outputId": "a16e7f78-77e5-448a-bc7e-31880bad8400"
   },
   "outputs": [
    {
     "name": "stdout",
     "output_type": "stream",
     "text": [
      "                                                      URL  Label\n",
      "0       nobell.it/70ffb52d079109dca5664cce6f317373782/...      1\n",
      "1       www.dghjdgf.com/paypal.co.uk/cycgi-bin/webscrc...      1\n",
      "2       serviciosbys.com/paypal.cgi.bin.get-into.herf....      1\n",
      "3       mail.printakid.com/www.online.americanexpress....      1\n",
      "4       thewhiskeydregs.com/wp-content/themes/widescre...      1\n",
      "...                                                   ...    ...\n",
      "516466                                    23.227.196.215/      1\n",
      "516467                                 apple-checker.org/      1\n",
      "516468                                  apple-iclods.org/      1\n",
      "516469                                 apple-uptoday.org/      1\n",
      "516470                                  apple-search.info      1\n",
      "\n",
      "[507196 rows x 2 columns]\n"
     ]
    }
   ],
   "source": [
    "# Create a mapping of encoded values to class names for Dataset 2\n",
    "encoded_to_class_2 = {'good': 0, 'bad': 1}\n",
    "\n",
    "# Map the 'type_encoded' column to class names\n",
    "data2['type_encoded'] = data2['Label'].map(encoded_to_class_2)\n",
    "\n",
    "# Display the DataFrame with the 'Label' column removed\n",
    "data2 = data2.drop(columns=['Label'])\n",
    "\n",
    "# Rename the 'type_encoded' column to 'Label'\n",
    "data2.rename(columns={'type_encoded': 'Label'}, inplace=True)\n",
    "\n",
    "# Print the updated Dataset 2\n",
    "print(data2)"
   ]
  },
  {
   "cell_type": "code",
   "execution_count": 24,
   "id": "9h4m5aoQbYqR",
   "metadata": {
    "colab": {
     "base_uri": "https://localhost:8080/"
    },
    "id": "9h4m5aoQbYqR",
    "outputId": "cd29452d-d088-4865-ec17-e02f52a9970e"
   },
   "outputs": [
    {
     "name": "stdout",
     "output_type": "stream",
     "text": [
      "Label\n",
      "0    392897\n",
      "1    114299\n",
      "Name: count, dtype: int64\n"
     ]
    }
   ],
   "source": [
    "# Get the counts for each class in the 'Label' column in Dataset 2\n",
    "class_counts_2 = data2['Label'].value_counts()\n",
    "\n",
    "# Print the class counts\n",
    "print(class_counts_2)"
   ]
  },
  {
   "cell_type": "code",
   "execution_count": 25,
   "id": "0f772e22",
   "metadata": {
    "id": "0f772e22",
    "outputId": "64f3f74b-e736-403c-94e3-9ab4c353840a"
   },
   "outputs": [
    {
     "data": {
      "text/html": [
       "<div>\n",
       "<style scoped>\n",
       "    .dataframe tbody tr th:only-of-type {\n",
       "        vertical-align: middle;\n",
       "    }\n",
       "\n",
       "    .dataframe tbody tr th {\n",
       "        vertical-align: top;\n",
       "    }\n",
       "\n",
       "    .dataframe thead th {\n",
       "        text-align: right;\n",
       "    }\n",
       "</style>\n",
       "<table border=\"1\" class=\"dataframe\">\n",
       "  <thead>\n",
       "    <tr style=\"text-align: right;\">\n",
       "      <th></th>\n",
       "      <th>URL</th>\n",
       "      <th>Label</th>\n",
       "    </tr>\n",
       "  </thead>\n",
       "  <tbody>\n",
       "    <tr>\n",
       "      <th>0</th>\n",
       "      <td>nobell.it/70ffb52d079109dca5664cce6f317373782/...</td>\n",
       "      <td>1</td>\n",
       "    </tr>\n",
       "    <tr>\n",
       "      <th>1</th>\n",
       "      <td>www.dghjdgf.com/paypal.co.uk/cycgi-bin/webscrc...</td>\n",
       "      <td>1</td>\n",
       "    </tr>\n",
       "    <tr>\n",
       "      <th>2</th>\n",
       "      <td>serviciosbys.com/paypal.cgi.bin.get-into.herf....</td>\n",
       "      <td>1</td>\n",
       "    </tr>\n",
       "    <tr>\n",
       "      <th>3</th>\n",
       "      <td>mail.printakid.com/www.online.americanexpress....</td>\n",
       "      <td>1</td>\n",
       "    </tr>\n",
       "    <tr>\n",
       "      <th>4</th>\n",
       "      <td>thewhiskeydregs.com/wp-content/themes/widescre...</td>\n",
       "      <td>1</td>\n",
       "    </tr>\n",
       "  </tbody>\n",
       "</table>\n",
       "</div>"
      ],
      "text/plain": [
       "                                                 URL  Label\n",
       "0  nobell.it/70ffb52d079109dca5664cce6f317373782/...      1\n",
       "1  www.dghjdgf.com/paypal.co.uk/cycgi-bin/webscrc...      1\n",
       "2  serviciosbys.com/paypal.cgi.bin.get-into.herf....      1\n",
       "3  mail.printakid.com/www.online.americanexpress....      1\n",
       "4  thewhiskeydregs.com/wp-content/themes/widescre...      1"
      ]
     },
     "execution_count": 25,
     "metadata": {},
     "output_type": "execute_result"
    }
   ],
   "source": [
    "data2.head()"
   ]
  },
  {
   "cell_type": "markdown",
   "id": "7ec8ca5e",
   "metadata": {
    "id": "7ec8ca5e"
   },
   "source": [
    "### Feature Extraction\n",
    "\n",
    "\n",
    "### 1. Length Feature:"
   ]
  },
  {
   "cell_type": "code",
   "execution_count": 26,
   "id": "7c08bfa9",
   "metadata": {
    "id": "7c08bfa9"
   },
   "outputs": [],
   "source": [
    "from urllib.parse import urlparse\n",
    "import tldextract\n",
    "from tld import get_tld\n",
    "import os.path"
   ]
  },
  {
   "cell_type": "code",
   "execution_count": 27,
   "id": "613d7f98",
   "metadata": {
    "id": "613d7f98"
   },
   "outputs": [],
   "source": [
    "# Length of URL\n",
    "data1['url_length'] = data1['url'].apply(lambda i: len(str(i)))\n",
    "data2['url_length'] = data2['URL'].apply(lambda i: len(str(i)))"
   ]
  },
  {
   "cell_type": "code",
   "execution_count": 28,
   "id": "5b4ac3b1",
   "metadata": {
    "id": "5b4ac3b1"
   },
   "outputs": [],
   "source": [
    "# Hostname Length\n",
    "data1['hostname'] = data1['url'].apply(lambda url: tldextract.extract(url).domain)\n",
    "data1['hostname_length'] = data1['hostname'].apply(len)\n",
    "\n",
    "data2['hostname'] = data2['URL'].apply(lambda url: tldextract.extract(url).domain)\n",
    "data2['hostname_length'] = data2['hostname'].apply(len)"
   ]
  },
  {
   "cell_type": "code",
   "execution_count": 29,
   "id": "b0e3231b",
   "metadata": {
    "id": "b0e3231b"
   },
   "outputs": [],
   "source": [
    "# Path Length\n",
    "data1['path_length'] = data1['url'].apply(lambda i: len(urlparse(i).path))\n",
    "data2['path_length'] = data2['URL'].apply(lambda i: len(urlparse(i).path))"
   ]
  },
  {
   "cell_type": "code",
   "execution_count": 30,
   "id": "2c951c20",
   "metadata": {
    "id": "2c951c20"
   },
   "outputs": [],
   "source": [
    "# First Directory Length\n",
    "def fd_length(url):\n",
    "    urlpath= urlparse(url).path\n",
    "    try:\n",
    "        return len(urlpath.split('/')[1])\n",
    "    except:\n",
    "        return 0\n",
    "\n",
    "data1['fd_length'] = data1['url'].apply(lambda i: fd_length(i))\n",
    "data2['fd_length'] = data2['URL'].apply(lambda i: fd_length(i))"
   ]
  },
  {
   "cell_type": "code",
   "execution_count": 31,
   "id": "6f9bea1e",
   "metadata": {
    "id": "6f9bea1e"
   },
   "outputs": [],
   "source": [
    "# Length of Top Level Domain\n",
    "data1['tld'] = data1['url'].apply(lambda i: get_tld(i,fail_silently=True))\n",
    "data2['tld'] = data2['URL'].apply(lambda i: get_tld(i,fail_silently=True))\n",
    "\n",
    "def tld_length(tld):\n",
    "    try:\n",
    "        return len(tld)\n",
    "    except:\n",
    "        return -1\n",
    "\n",
    "data1['tld_length'] = data1['tld'].apply(lambda i: tld_length(i))\n",
    "data2['tld_length'] = data2['tld'].apply(lambda i: tld_length(i))"
   ]
  },
  {
   "cell_type": "code",
   "execution_count": 32,
   "id": "061575f1",
   "metadata": {
    "id": "061575f1"
   },
   "outputs": [],
   "source": [
    "# Dataset after extracting length features - only want length features, so remove \"tld\" and \"hostname\"\n",
    "data1 = data1.drop(\"tld\", axis=1)\n",
    "data1 = data1.drop(\"hostname\", axis=1)\n",
    "data2 = data2.drop(\"tld\", axis=1)\n",
    "data2 = data2.drop(\"hostname\", axis=1)"
   ]
  },
  {
   "cell_type": "code",
   "execution_count": 33,
   "id": "vi_sWTZaIaHP",
   "metadata": {
    "colab": {
     "base_uri": "https://localhost:8080/",
     "height": 206
    },
    "id": "vi_sWTZaIaHP",
    "outputId": "e799a12a-b820-46be-c04d-58dcee669efa"
   },
   "outputs": [
    {
     "data": {
      "text/html": [
       "<div>\n",
       "<style scoped>\n",
       "    .dataframe tbody tr th:only-of-type {\n",
       "        vertical-align: middle;\n",
       "    }\n",
       "\n",
       "    .dataframe tbody tr th {\n",
       "        vertical-align: top;\n",
       "    }\n",
       "\n",
       "    .dataframe thead th {\n",
       "        text-align: right;\n",
       "    }\n",
       "</style>\n",
       "<table border=\"1\" class=\"dataframe\">\n",
       "  <thead>\n",
       "    <tr style=\"text-align: right;\">\n",
       "      <th></th>\n",
       "      <th>url</th>\n",
       "      <th>type</th>\n",
       "      <th>url_length</th>\n",
       "      <th>hostname_length</th>\n",
       "      <th>path_length</th>\n",
       "      <th>fd_length</th>\n",
       "      <th>tld_length</th>\n",
       "    </tr>\n",
       "  </thead>\n",
       "  <tbody>\n",
       "    <tr>\n",
       "      <th>0</th>\n",
       "      <td>br-icloud.com.br</td>\n",
       "      <td>2</td>\n",
       "      <td>16</td>\n",
       "      <td>9</td>\n",
       "      <td>16</td>\n",
       "      <td>0</td>\n",
       "      <td>-1</td>\n",
       "    </tr>\n",
       "    <tr>\n",
       "      <th>1</th>\n",
       "      <td>mp3raid.com/music/krizz_kaliko.html</td>\n",
       "      <td>0</td>\n",
       "      <td>35</td>\n",
       "      <td>7</td>\n",
       "      <td>35</td>\n",
       "      <td>5</td>\n",
       "      <td>-1</td>\n",
       "    </tr>\n",
       "    <tr>\n",
       "      <th>2</th>\n",
       "      <td>bopsecrets.org/rexroth/cr/1.htm</td>\n",
       "      <td>0</td>\n",
       "      <td>31</td>\n",
       "      <td>10</td>\n",
       "      <td>31</td>\n",
       "      <td>7</td>\n",
       "      <td>-1</td>\n",
       "    </tr>\n",
       "    <tr>\n",
       "      <th>3</th>\n",
       "      <td>http://www.garage-pirenne.be/index.php?option=...</td>\n",
       "      <td>1</td>\n",
       "      <td>88</td>\n",
       "      <td>14</td>\n",
       "      <td>10</td>\n",
       "      <td>9</td>\n",
       "      <td>2</td>\n",
       "    </tr>\n",
       "    <tr>\n",
       "      <th>4</th>\n",
       "      <td>http://adventure-nicaragua.net/index.php?optio...</td>\n",
       "      <td>1</td>\n",
       "      <td>235</td>\n",
       "      <td>19</td>\n",
       "      <td>10</td>\n",
       "      <td>9</td>\n",
       "      <td>3</td>\n",
       "    </tr>\n",
       "  </tbody>\n",
       "</table>\n",
       "</div>"
      ],
      "text/plain": [
       "                                                 url  type  url_length  \\\n",
       "0                                   br-icloud.com.br     2          16   \n",
       "1                mp3raid.com/music/krizz_kaliko.html     0          35   \n",
       "2                    bopsecrets.org/rexroth/cr/1.htm     0          31   \n",
       "3  http://www.garage-pirenne.be/index.php?option=...     1          88   \n",
       "4  http://adventure-nicaragua.net/index.php?optio...     1         235   \n",
       "\n",
       "   hostname_length  path_length  fd_length  tld_length  \n",
       "0                9           16          0          -1  \n",
       "1                7           35          5          -1  \n",
       "2               10           31          7          -1  \n",
       "3               14           10          9           2  \n",
       "4               19           10          9           3  "
      ]
     },
     "execution_count": 33,
     "metadata": {},
     "output_type": "execute_result"
    }
   ],
   "source": [
    "data1.head()"
   ]
  },
  {
   "cell_type": "code",
   "execution_count": 34,
   "id": "BZXUckEgId4W",
   "metadata": {
    "colab": {
     "base_uri": "https://localhost:8080/",
     "height": 206
    },
    "id": "BZXUckEgId4W",
    "outputId": "fe7ca0fa-f904-4117-9301-b712b1c0bffd"
   },
   "outputs": [
    {
     "data": {
      "text/html": [
       "<div>\n",
       "<style scoped>\n",
       "    .dataframe tbody tr th:only-of-type {\n",
       "        vertical-align: middle;\n",
       "    }\n",
       "\n",
       "    .dataframe tbody tr th {\n",
       "        vertical-align: top;\n",
       "    }\n",
       "\n",
       "    .dataframe thead th {\n",
       "        text-align: right;\n",
       "    }\n",
       "</style>\n",
       "<table border=\"1\" class=\"dataframe\">\n",
       "  <thead>\n",
       "    <tr style=\"text-align: right;\">\n",
       "      <th></th>\n",
       "      <th>URL</th>\n",
       "      <th>Label</th>\n",
       "      <th>url_length</th>\n",
       "      <th>hostname_length</th>\n",
       "      <th>path_length</th>\n",
       "      <th>fd_length</th>\n",
       "      <th>tld_length</th>\n",
       "    </tr>\n",
       "  </thead>\n",
       "  <tbody>\n",
       "    <tr>\n",
       "      <th>0</th>\n",
       "      <td>nobell.it/70ffb52d079109dca5664cce6f317373782/...</td>\n",
       "      <td>1</td>\n",
       "      <td>225</td>\n",
       "      <td>6</td>\n",
       "      <td>134</td>\n",
       "      <td>35</td>\n",
       "      <td>-1</td>\n",
       "    </tr>\n",
       "    <tr>\n",
       "      <th>1</th>\n",
       "      <td>www.dghjdgf.com/paypal.co.uk/cycgi-bin/webscrc...</td>\n",
       "      <td>1</td>\n",
       "      <td>81</td>\n",
       "      <td>7</td>\n",
       "      <td>81</td>\n",
       "      <td>12</td>\n",
       "      <td>-1</td>\n",
       "    </tr>\n",
       "    <tr>\n",
       "      <th>2</th>\n",
       "      <td>serviciosbys.com/paypal.cgi.bin.get-into.herf....</td>\n",
       "      <td>1</td>\n",
       "      <td>177</td>\n",
       "      <td>12</td>\n",
       "      <td>177</td>\n",
       "      <td>76</td>\n",
       "      <td>-1</td>\n",
       "    </tr>\n",
       "    <tr>\n",
       "      <th>3</th>\n",
       "      <td>mail.printakid.com/www.online.americanexpress....</td>\n",
       "      <td>1</td>\n",
       "      <td>60</td>\n",
       "      <td>9</td>\n",
       "      <td>60</td>\n",
       "      <td>30</td>\n",
       "      <td>-1</td>\n",
       "    </tr>\n",
       "    <tr>\n",
       "      <th>4</th>\n",
       "      <td>thewhiskeydregs.com/wp-content/themes/widescre...</td>\n",
       "      <td>1</td>\n",
       "      <td>116</td>\n",
       "      <td>15</td>\n",
       "      <td>79</td>\n",
       "      <td>10</td>\n",
       "      <td>-1</td>\n",
       "    </tr>\n",
       "  </tbody>\n",
       "</table>\n",
       "</div>"
      ],
      "text/plain": [
       "                                                 URL  Label  url_length  \\\n",
       "0  nobell.it/70ffb52d079109dca5664cce6f317373782/...      1         225   \n",
       "1  www.dghjdgf.com/paypal.co.uk/cycgi-bin/webscrc...      1          81   \n",
       "2  serviciosbys.com/paypal.cgi.bin.get-into.herf....      1         177   \n",
       "3  mail.printakid.com/www.online.americanexpress....      1          60   \n",
       "4  thewhiskeydregs.com/wp-content/themes/widescre...      1         116   \n",
       "\n",
       "   hostname_length  path_length  fd_length  tld_length  \n",
       "0                6          134         35          -1  \n",
       "1                7           81         12          -1  \n",
       "2               12          177         76          -1  \n",
       "3                9           60         30          -1  \n",
       "4               15           79         10          -1  "
      ]
     },
     "execution_count": 34,
     "metadata": {},
     "output_type": "execute_result"
    }
   ],
   "source": [
    "data2.head()"
   ]
  },
  {
   "cell_type": "markdown",
   "id": "a2b80f13",
   "metadata": {
    "id": "a2b80f13"
   },
   "source": [
    "### 2. Count Features:"
   ]
  },
  {
   "cell_type": "code",
   "execution_count": 35,
   "id": "ff74e9a2",
   "metadata": {
    "id": "ff74e9a2"
   },
   "outputs": [],
   "source": [
    "# Count -\n",
    "\n",
    "data1['count-'] = data1['url'].apply(lambda i: i.count('-'))\n",
    "data2['count-'] = data2['URL'].apply(lambda i: i.count('-'))"
   ]
  },
  {
   "cell_type": "code",
   "execution_count": 36,
   "id": "bc9b0a25",
   "metadata": {
    "id": "bc9b0a25"
   },
   "outputs": [],
   "source": [
    "# Count @\n",
    "\n",
    "data1['count@'] = data1['url'].apply(lambda i: i.count('@'))\n",
    "data2['count@'] = data2['URL'].apply(lambda i: i.count('@'))"
   ]
  },
  {
   "cell_type": "code",
   "execution_count": 37,
   "id": "5af21ac0",
   "metadata": {
    "id": "5af21ac0"
   },
   "outputs": [],
   "source": [
    "# Count ?\n",
    "\n",
    "data1['count?'] = data1['url'].apply(lambda i: i.count('?'))\n",
    "data2['count?'] = data2['URL'].apply(lambda i: i.count('?'))"
   ]
  },
  {
   "cell_type": "code",
   "execution_count": 38,
   "id": "f25bebb0",
   "metadata": {
    "id": "f25bebb0"
   },
   "outputs": [],
   "source": [
    "# Count %\n",
    "\n",
    "data1['count%'] = data1['url'].apply(lambda i: i.count('%'))\n",
    "data2['count%'] = data2['URL'].apply(lambda i: i.count('%'))"
   ]
  },
  {
   "cell_type": "code",
   "execution_count": 39,
   "id": "98990303",
   "metadata": {
    "id": "98990303"
   },
   "outputs": [],
   "source": [
    "# Count .\n",
    "\n",
    "data1['count.'] = data1['url'].apply(lambda i: i.count('.'))\n",
    "data2['count.'] = data2['URL'].apply(lambda i: i.count('.'))"
   ]
  },
  {
   "cell_type": "code",
   "execution_count": 40,
   "id": "798d80b8",
   "metadata": {
    "id": "798d80b8"
   },
   "outputs": [],
   "source": [
    "# Count =\n",
    "\n",
    "data1['count='] = data1['url'].apply(lambda i: i.count('='))\n",
    "data2['count='] = data2['URL'].apply(lambda i: i.count('='))"
   ]
  },
  {
   "cell_type": "code",
   "execution_count": 41,
   "id": "8acce6d6",
   "metadata": {
    "id": "8acce6d6"
   },
   "outputs": [],
   "source": [
    "# Count http\n",
    "\n",
    "data1['count-http'] = data1['url'].apply(lambda i : i.count('http'))\n",
    "data2['count-http'] = data2['URL'].apply(lambda i : i.count('http'))"
   ]
  },
  {
   "cell_type": "code",
   "execution_count": 42,
   "id": "8aac8879",
   "metadata": {
    "id": "8aac8879"
   },
   "outputs": [],
   "source": [
    "# Count https\n",
    "\n",
    "data1['count-https'] = data1['url'].apply(lambda i : i.count('https'))\n",
    "data2['count-https'] = data2['URL'].apply(lambda i : i.count('https'))"
   ]
  },
  {
   "cell_type": "code",
   "execution_count": 43,
   "id": "528803ba",
   "metadata": {
    "id": "528803ba"
   },
   "outputs": [],
   "source": [
    "# Count www\n",
    "\n",
    "data1['count-www'] = data1['url'].apply(lambda i: i.count('www'))\n",
    "data2['count-www'] = data2['URL'].apply(lambda i: i.count('www'))"
   ]
  },
  {
   "cell_type": "code",
   "execution_count": 44,
   "id": "0c6fd9af",
   "metadata": {
    "id": "0c6fd9af"
   },
   "outputs": [],
   "source": [
    "# Count digits\n",
    "\n",
    "def digit_count(url):\n",
    "    digits = 0\n",
    "    for i in url:\n",
    "        if i.isnumeric():\n",
    "            digits = digits + 1\n",
    "    return digits\n",
    "\n",
    "data1['count-digits']= data1['url'].apply(lambda i: digit_count(i))\n",
    "data2['count-digits']= data2['URL'].apply(lambda i: digit_count(i))"
   ]
  },
  {
   "cell_type": "code",
   "execution_count": 45,
   "id": "623cb41a",
   "metadata": {
    "id": "623cb41a"
   },
   "outputs": [],
   "source": [
    "# Count letters\n",
    "\n",
    "def letter_count(url):\n",
    "    letters = 0\n",
    "    for i in url:\n",
    "        if i.isalpha():\n",
    "            letters = letters + 1\n",
    "    return letters\n",
    "\n",
    "data1['count-letters']= data1['url'].apply(lambda i: letter_count(i))\n",
    "data2['count-letters']= data2['URL'].apply(lambda i: letter_count(i))"
   ]
  },
  {
   "cell_type": "code",
   "execution_count": 46,
   "id": "a159627e",
   "metadata": {
    "id": "a159627e"
   },
   "outputs": [],
   "source": [
    "# Count number of directories\n",
    "\n",
    "def no_of_dir(url):\n",
    "    urldir = urlparse(url).path\n",
    "    return urldir.count('/')\n",
    "\n",
    "data1['count_dir'] = data1['url'].apply(lambda i: no_of_dir(i))\n",
    "data2['count_dir'] = data2['URL'].apply(lambda i: no_of_dir(i))"
   ]
  },
  {
   "cell_type": "code",
   "execution_count": 47,
   "id": "Yrkpk_wGKtEm",
   "metadata": {
    "colab": {
     "base_uri": "https://localhost:8080/",
     "height": 278
    },
    "id": "Yrkpk_wGKtEm",
    "outputId": "6f6c1f07-2524-431f-ec0e-8dbbf4a93f99"
   },
   "outputs": [
    {
     "data": {
      "text/html": [
       "<div>\n",
       "<style scoped>\n",
       "    .dataframe tbody tr th:only-of-type {\n",
       "        vertical-align: middle;\n",
       "    }\n",
       "\n",
       "    .dataframe tbody tr th {\n",
       "        vertical-align: top;\n",
       "    }\n",
       "\n",
       "    .dataframe thead th {\n",
       "        text-align: right;\n",
       "    }\n",
       "</style>\n",
       "<table border=\"1\" class=\"dataframe\">\n",
       "  <thead>\n",
       "    <tr style=\"text-align: right;\">\n",
       "      <th></th>\n",
       "      <th>url</th>\n",
       "      <th>type</th>\n",
       "      <th>url_length</th>\n",
       "      <th>hostname_length</th>\n",
       "      <th>path_length</th>\n",
       "      <th>fd_length</th>\n",
       "      <th>tld_length</th>\n",
       "      <th>count-</th>\n",
       "      <th>count@</th>\n",
       "      <th>count?</th>\n",
       "      <th>count%</th>\n",
       "      <th>count.</th>\n",
       "      <th>count=</th>\n",
       "      <th>count-http</th>\n",
       "      <th>count-https</th>\n",
       "      <th>count-www</th>\n",
       "      <th>count-digits</th>\n",
       "      <th>count-letters</th>\n",
       "      <th>count_dir</th>\n",
       "    </tr>\n",
       "  </thead>\n",
       "  <tbody>\n",
       "    <tr>\n",
       "      <th>0</th>\n",
       "      <td>br-icloud.com.br</td>\n",
       "      <td>2</td>\n",
       "      <td>16</td>\n",
       "      <td>9</td>\n",
       "      <td>16</td>\n",
       "      <td>0</td>\n",
       "      <td>-1</td>\n",
       "      <td>1</td>\n",
       "      <td>0</td>\n",
       "      <td>0</td>\n",
       "      <td>0</td>\n",
       "      <td>2</td>\n",
       "      <td>0</td>\n",
       "      <td>0</td>\n",
       "      <td>0</td>\n",
       "      <td>0</td>\n",
       "      <td>0</td>\n",
       "      <td>13</td>\n",
       "      <td>0</td>\n",
       "    </tr>\n",
       "    <tr>\n",
       "      <th>1</th>\n",
       "      <td>mp3raid.com/music/krizz_kaliko.html</td>\n",
       "      <td>0</td>\n",
       "      <td>35</td>\n",
       "      <td>7</td>\n",
       "      <td>35</td>\n",
       "      <td>5</td>\n",
       "      <td>-1</td>\n",
       "      <td>0</td>\n",
       "      <td>0</td>\n",
       "      <td>0</td>\n",
       "      <td>0</td>\n",
       "      <td>2</td>\n",
       "      <td>0</td>\n",
       "      <td>0</td>\n",
       "      <td>0</td>\n",
       "      <td>0</td>\n",
       "      <td>1</td>\n",
       "      <td>29</td>\n",
       "      <td>2</td>\n",
       "    </tr>\n",
       "    <tr>\n",
       "      <th>2</th>\n",
       "      <td>bopsecrets.org/rexroth/cr/1.htm</td>\n",
       "      <td>0</td>\n",
       "      <td>31</td>\n",
       "      <td>10</td>\n",
       "      <td>31</td>\n",
       "      <td>7</td>\n",
       "      <td>-1</td>\n",
       "      <td>0</td>\n",
       "      <td>0</td>\n",
       "      <td>0</td>\n",
       "      <td>0</td>\n",
       "      <td>2</td>\n",
       "      <td>0</td>\n",
       "      <td>0</td>\n",
       "      <td>0</td>\n",
       "      <td>0</td>\n",
       "      <td>1</td>\n",
       "      <td>25</td>\n",
       "      <td>3</td>\n",
       "    </tr>\n",
       "    <tr>\n",
       "      <th>3</th>\n",
       "      <td>http://www.garage-pirenne.be/index.php?option=...</td>\n",
       "      <td>1</td>\n",
       "      <td>88</td>\n",
       "      <td>14</td>\n",
       "      <td>10</td>\n",
       "      <td>9</td>\n",
       "      <td>2</td>\n",
       "      <td>1</td>\n",
       "      <td>0</td>\n",
       "      <td>1</td>\n",
       "      <td>0</td>\n",
       "      <td>3</td>\n",
       "      <td>4</td>\n",
       "      <td>1</td>\n",
       "      <td>0</td>\n",
       "      <td>1</td>\n",
       "      <td>7</td>\n",
       "      <td>63</td>\n",
       "      <td>1</td>\n",
       "    </tr>\n",
       "    <tr>\n",
       "      <th>4</th>\n",
       "      <td>http://adventure-nicaragua.net/index.php?optio...</td>\n",
       "      <td>1</td>\n",
       "      <td>235</td>\n",
       "      <td>19</td>\n",
       "      <td>10</td>\n",
       "      <td>9</td>\n",
       "      <td>3</td>\n",
       "      <td>1</td>\n",
       "      <td>0</td>\n",
       "      <td>1</td>\n",
       "      <td>0</td>\n",
       "      <td>2</td>\n",
       "      <td>3</td>\n",
       "      <td>1</td>\n",
       "      <td>0</td>\n",
       "      <td>0</td>\n",
       "      <td>22</td>\n",
       "      <td>199</td>\n",
       "      <td>1</td>\n",
       "    </tr>\n",
       "  </tbody>\n",
       "</table>\n",
       "</div>"
      ],
      "text/plain": [
       "                                                 url  type  url_length  \\\n",
       "0                                   br-icloud.com.br     2          16   \n",
       "1                mp3raid.com/music/krizz_kaliko.html     0          35   \n",
       "2                    bopsecrets.org/rexroth/cr/1.htm     0          31   \n",
       "3  http://www.garage-pirenne.be/index.php?option=...     1          88   \n",
       "4  http://adventure-nicaragua.net/index.php?optio...     1         235   \n",
       "\n",
       "   hostname_length  path_length  fd_length  tld_length  count-  count@  \\\n",
       "0                9           16          0          -1       1       0   \n",
       "1                7           35          5          -1       0       0   \n",
       "2               10           31          7          -1       0       0   \n",
       "3               14           10          9           2       1       0   \n",
       "4               19           10          9           3       1       0   \n",
       "\n",
       "   count?  count%  count.  count=  count-http  count-https  count-www  \\\n",
       "0       0       0       2       0           0            0          0   \n",
       "1       0       0       2       0           0            0          0   \n",
       "2       0       0       2       0           0            0          0   \n",
       "3       1       0       3       4           1            0          1   \n",
       "4       1       0       2       3           1            0          0   \n",
       "\n",
       "   count-digits  count-letters  count_dir  \n",
       "0             0             13          0  \n",
       "1             1             29          2  \n",
       "2             1             25          3  \n",
       "3             7             63          1  \n",
       "4            22            199          1  "
      ]
     },
     "execution_count": 47,
     "metadata": {},
     "output_type": "execute_result"
    }
   ],
   "source": [
    "data1.head()"
   ]
  },
  {
   "cell_type": "code",
   "execution_count": 48,
   "id": "0M0ncZo8K08F",
   "metadata": {
    "colab": {
     "base_uri": "https://localhost:8080/",
     "height": 261
    },
    "id": "0M0ncZo8K08F",
    "outputId": "1a9a0b60-93ec-4e7a-a4bb-92f4e710f4bb"
   },
   "outputs": [
    {
     "data": {
      "text/html": [
       "<div>\n",
       "<style scoped>\n",
       "    .dataframe tbody tr th:only-of-type {\n",
       "        vertical-align: middle;\n",
       "    }\n",
       "\n",
       "    .dataframe tbody tr th {\n",
       "        vertical-align: top;\n",
       "    }\n",
       "\n",
       "    .dataframe thead th {\n",
       "        text-align: right;\n",
       "    }\n",
       "</style>\n",
       "<table border=\"1\" class=\"dataframe\">\n",
       "  <thead>\n",
       "    <tr style=\"text-align: right;\">\n",
       "      <th></th>\n",
       "      <th>URL</th>\n",
       "      <th>Label</th>\n",
       "      <th>url_length</th>\n",
       "      <th>hostname_length</th>\n",
       "      <th>path_length</th>\n",
       "      <th>fd_length</th>\n",
       "      <th>tld_length</th>\n",
       "      <th>count-</th>\n",
       "      <th>count@</th>\n",
       "      <th>count?</th>\n",
       "      <th>count%</th>\n",
       "      <th>count.</th>\n",
       "      <th>count=</th>\n",
       "      <th>count-http</th>\n",
       "      <th>count-https</th>\n",
       "      <th>count-www</th>\n",
       "      <th>count-digits</th>\n",
       "      <th>count-letters</th>\n",
       "      <th>count_dir</th>\n",
       "    </tr>\n",
       "  </thead>\n",
       "  <tbody>\n",
       "    <tr>\n",
       "      <th>0</th>\n",
       "      <td>nobell.it/70ffb52d079109dca5664cce6f317373782/...</td>\n",
       "      <td>1</td>\n",
       "      <td>225</td>\n",
       "      <td>6</td>\n",
       "      <td>134</td>\n",
       "      <td>35</td>\n",
       "      <td>-1</td>\n",
       "      <td>4</td>\n",
       "      <td>0</td>\n",
       "      <td>1</td>\n",
       "      <td>0</td>\n",
       "      <td>6</td>\n",
       "      <td>4</td>\n",
       "      <td>0</td>\n",
       "      <td>0</td>\n",
       "      <td>0</td>\n",
       "      <td>58</td>\n",
       "      <td>135</td>\n",
       "      <td>8</td>\n",
       "    </tr>\n",
       "    <tr>\n",
       "      <th>1</th>\n",
       "      <td>www.dghjdgf.com/paypal.co.uk/cycgi-bin/webscrc...</td>\n",
       "      <td>1</td>\n",
       "      <td>81</td>\n",
       "      <td>7</td>\n",
       "      <td>81</td>\n",
       "      <td>12</td>\n",
       "      <td>-1</td>\n",
       "      <td>2</td>\n",
       "      <td>0</td>\n",
       "      <td>0</td>\n",
       "      <td>0</td>\n",
       "      <td>5</td>\n",
       "      <td>2</td>\n",
       "      <td>0</td>\n",
       "      <td>0</td>\n",
       "      <td>1</td>\n",
       "      <td>1</td>\n",
       "      <td>65</td>\n",
       "      <td>4</td>\n",
       "    </tr>\n",
       "    <tr>\n",
       "      <th>2</th>\n",
       "      <td>serviciosbys.com/paypal.cgi.bin.get-into.herf....</td>\n",
       "      <td>1</td>\n",
       "      <td>177</td>\n",
       "      <td>12</td>\n",
       "      <td>177</td>\n",
       "      <td>76</td>\n",
       "      <td>-1</td>\n",
       "      <td>1</td>\n",
       "      <td>0</td>\n",
       "      <td>0</td>\n",
       "      <td>0</td>\n",
       "      <td>7</td>\n",
       "      <td>0</td>\n",
       "      <td>0</td>\n",
       "      <td>0</td>\n",
       "      <td>0</td>\n",
       "      <td>47</td>\n",
       "      <td>111</td>\n",
       "      <td>11</td>\n",
       "    </tr>\n",
       "    <tr>\n",
       "      <th>3</th>\n",
       "      <td>mail.printakid.com/www.online.americanexpress....</td>\n",
       "      <td>1</td>\n",
       "      <td>60</td>\n",
       "      <td>9</td>\n",
       "      <td>60</td>\n",
       "      <td>30</td>\n",
       "      <td>-1</td>\n",
       "      <td>0</td>\n",
       "      <td>0</td>\n",
       "      <td>0</td>\n",
       "      <td>0</td>\n",
       "      <td>6</td>\n",
       "      <td>0</td>\n",
       "      <td>0</td>\n",
       "      <td>0</td>\n",
       "      <td>1</td>\n",
       "      <td>0</td>\n",
       "      <td>52</td>\n",
       "      <td>2</td>\n",
       "    </tr>\n",
       "    <tr>\n",
       "      <th>4</th>\n",
       "      <td>thewhiskeydregs.com/wp-content/themes/widescre...</td>\n",
       "      <td>1</td>\n",
       "      <td>116</td>\n",
       "      <td>15</td>\n",
       "      <td>79</td>\n",
       "      <td>10</td>\n",
       "      <td>-1</td>\n",
       "      <td>1</td>\n",
       "      <td>0</td>\n",
       "      <td>1</td>\n",
       "      <td>0</td>\n",
       "      <td>1</td>\n",
       "      <td>0</td>\n",
       "      <td>0</td>\n",
       "      <td>0</td>\n",
       "      <td>0</td>\n",
       "      <td>21</td>\n",
       "      <td>82</td>\n",
       "      <td>7</td>\n",
       "    </tr>\n",
       "  </tbody>\n",
       "</table>\n",
       "</div>"
      ],
      "text/plain": [
       "                                                 URL  Label  url_length  \\\n",
       "0  nobell.it/70ffb52d079109dca5664cce6f317373782/...      1         225   \n",
       "1  www.dghjdgf.com/paypal.co.uk/cycgi-bin/webscrc...      1          81   \n",
       "2  serviciosbys.com/paypal.cgi.bin.get-into.herf....      1         177   \n",
       "3  mail.printakid.com/www.online.americanexpress....      1          60   \n",
       "4  thewhiskeydregs.com/wp-content/themes/widescre...      1         116   \n",
       "\n",
       "   hostname_length  path_length  fd_length  tld_length  count-  count@  \\\n",
       "0                6          134         35          -1       4       0   \n",
       "1                7           81         12          -1       2       0   \n",
       "2               12          177         76          -1       1       0   \n",
       "3                9           60         30          -1       0       0   \n",
       "4               15           79         10          -1       1       0   \n",
       "\n",
       "   count?  count%  count.  count=  count-http  count-https  count-www  \\\n",
       "0       1       0       6       4           0            0          0   \n",
       "1       0       0       5       2           0            0          1   \n",
       "2       0       0       7       0           0            0          0   \n",
       "3       0       0       6       0           0            0          1   \n",
       "4       1       0       1       0           0            0          0   \n",
       "\n",
       "   count-digits  count-letters  count_dir  \n",
       "0            58            135          8  \n",
       "1             1             65          4  \n",
       "2            47            111         11  \n",
       "3             0             52          2  \n",
       "4            21             82          7  "
      ]
     },
     "execution_count": 48,
     "metadata": {},
     "output_type": "execute_result"
    }
   ],
   "source": [
    "data2.head()"
   ]
  },
  {
   "cell_type": "markdown",
   "id": "fc069d83",
   "metadata": {
    "id": "fc069d83"
   },
   "source": [
    "### 3. Binary Features:"
   ]
  },
  {
   "cell_type": "code",
   "execution_count": 49,
   "id": "5271d947",
   "metadata": {
    "id": "5271d947"
   },
   "outputs": [],
   "source": [
    "# Use of IP or not in domain -> attackers might include ip address in the URL\n",
    "\n",
    "def having_ip_address(url):\n",
    "    match = re.search(\n",
    "        '(([01]?\\\\d\\\\d?|2[0-4]\\\\d|25[0-5])\\\\.([01]?\\\\d\\\\d?|2[0-4]\\\\d|25[0-5])\\\\.([01]?\\\\d\\\\d?|2[0-4]\\\\d|25[0-5])\\\\.'\n",
    "        '([01]?\\\\d\\\\d?|2[0-4]\\\\d|25[0-5])\\\\/)|'  # IPv4\n",
    "        '((0x[0-9a-fA-F]{1,2})\\\\.(0x[0-9a-fA-F]{1,2})\\\\.(0x[0-9a-fA-F]{1,2})\\\\.(0x[0-9a-fA-F]{1,2})\\\\/)' # IPv4 in hexadecimal\n",
    "        '(?:[a-fA-F0-9]{1,4}:){7}[a-fA-F0-9]{1,4}', url)  # Ipv6\n",
    "    if match:\n",
    "        # print match.group(), got ip address\n",
    "        return -1\n",
    "    else:\n",
    "        # print 'No matching pattern found', no ip address found\n",
    "        return 1\n",
    "\n",
    "data1['use_of_ip'] = data1['url'].apply(lambda i: having_ip_address(i))\n",
    "data2['use_of_ip'] = data2['URL'].apply(lambda i: having_ip_address(i))"
   ]
  },
  {
   "cell_type": "code",
   "execution_count": 50,
   "id": "8ee05b67",
   "metadata": {
    "id": "8ee05b67"
   },
   "outputs": [],
   "source": [
    "# Check whether got shortening service\n",
    "\n",
    "def shortening_service(url):\n",
    "    match = re.search('bit\\.ly|goo\\.gl|shorte\\.st|go2l\\.ink|x\\.co|ow\\.ly|t\\.co|tinyurl|tr\\.im|is\\.gd|cli\\.gs|'\n",
    "                      'yfrog\\.com|migre\\.me|ff\\.im|tiny\\.cc|url4\\.eu|twit\\.ac|su\\.pr|twurl\\.nl|snipurl\\.com|'\n",
    "                      'short\\.to|BudURL\\.com|ping\\.fm|post\\.ly|Just\\.as|bkite\\.com|snipr\\.com|fic\\.kr|loopt\\.us|'\n",
    "                      'doiop\\.com|short\\.ie|kl\\.am|wp\\.me|rubyurl\\.com|om\\.ly|to\\.ly|bit\\.do|t\\.co|lnkd\\.in|'\n",
    "                      'db\\.tt|qr\\.ae|adf\\.ly|goo\\.gl|bitly\\.com|cur\\.lv|tinyurl\\.com|ow\\.ly|bit\\.ly|ity\\.im|'\n",
    "                      'q\\.gs|is\\.gd|po\\.st|bc\\.vc|twitthis\\.com|u\\.to|j\\.mp|buzurl\\.com|cutt\\.us|u\\.bb|yourls\\.org|'\n",
    "                      'x\\.co|prettylinkpro\\.com|scrnch\\.me|filoops\\.info|vzturl\\.com|qr\\.net|1url\\.com|tweez\\.me|v\\.gd|'\n",
    "                      'tr\\.im|link\\.zip\\.net',\n",
    "                      url)\n",
    "    if match:\n",
    "        return -1\n",
    "    else:\n",
    "        return 1\n",
    "\n",
    "data1['short_url'] = data1['url'].apply(lambda i: shortening_service(i))\n",
    "data2['short_url'] = data2['URL'].apply(lambda i: shortening_service(i))"
   ]
  },
  {
   "cell_type": "code",
   "execution_count": 51,
   "id": "LvuSsLcDLdMW",
   "metadata": {
    "colab": {
     "base_uri": "https://localhost:8080/",
     "height": 307
    },
    "id": "LvuSsLcDLdMW",
    "outputId": "44c658d8-efd2-4568-9cbb-db0ca09fea2a"
   },
   "outputs": [
    {
     "data": {
      "text/html": [
       "<div>\n",
       "<style scoped>\n",
       "    .dataframe tbody tr th:only-of-type {\n",
       "        vertical-align: middle;\n",
       "    }\n",
       "\n",
       "    .dataframe tbody tr th {\n",
       "        vertical-align: top;\n",
       "    }\n",
       "\n",
       "    .dataframe thead th {\n",
       "        text-align: right;\n",
       "    }\n",
       "</style>\n",
       "<table border=\"1\" class=\"dataframe\">\n",
       "  <thead>\n",
       "    <tr style=\"text-align: right;\">\n",
       "      <th></th>\n",
       "      <th>url</th>\n",
       "      <th>type</th>\n",
       "      <th>url_length</th>\n",
       "      <th>hostname_length</th>\n",
       "      <th>path_length</th>\n",
       "      <th>fd_length</th>\n",
       "      <th>tld_length</th>\n",
       "      <th>count-</th>\n",
       "      <th>count@</th>\n",
       "      <th>count?</th>\n",
       "      <th>...</th>\n",
       "      <th>count.</th>\n",
       "      <th>count=</th>\n",
       "      <th>count-http</th>\n",
       "      <th>count-https</th>\n",
       "      <th>count-www</th>\n",
       "      <th>count-digits</th>\n",
       "      <th>count-letters</th>\n",
       "      <th>count_dir</th>\n",
       "      <th>use_of_ip</th>\n",
       "      <th>short_url</th>\n",
       "    </tr>\n",
       "  </thead>\n",
       "  <tbody>\n",
       "    <tr>\n",
       "      <th>0</th>\n",
       "      <td>br-icloud.com.br</td>\n",
       "      <td>2</td>\n",
       "      <td>16</td>\n",
       "      <td>9</td>\n",
       "      <td>16</td>\n",
       "      <td>0</td>\n",
       "      <td>-1</td>\n",
       "      <td>1</td>\n",
       "      <td>0</td>\n",
       "      <td>0</td>\n",
       "      <td>...</td>\n",
       "      <td>2</td>\n",
       "      <td>0</td>\n",
       "      <td>0</td>\n",
       "      <td>0</td>\n",
       "      <td>0</td>\n",
       "      <td>0</td>\n",
       "      <td>13</td>\n",
       "      <td>0</td>\n",
       "      <td>1</td>\n",
       "      <td>1</td>\n",
       "    </tr>\n",
       "    <tr>\n",
       "      <th>1</th>\n",
       "      <td>mp3raid.com/music/krizz_kaliko.html</td>\n",
       "      <td>0</td>\n",
       "      <td>35</td>\n",
       "      <td>7</td>\n",
       "      <td>35</td>\n",
       "      <td>5</td>\n",
       "      <td>-1</td>\n",
       "      <td>0</td>\n",
       "      <td>0</td>\n",
       "      <td>0</td>\n",
       "      <td>...</td>\n",
       "      <td>2</td>\n",
       "      <td>0</td>\n",
       "      <td>0</td>\n",
       "      <td>0</td>\n",
       "      <td>0</td>\n",
       "      <td>1</td>\n",
       "      <td>29</td>\n",
       "      <td>2</td>\n",
       "      <td>1</td>\n",
       "      <td>1</td>\n",
       "    </tr>\n",
       "    <tr>\n",
       "      <th>2</th>\n",
       "      <td>bopsecrets.org/rexroth/cr/1.htm</td>\n",
       "      <td>0</td>\n",
       "      <td>31</td>\n",
       "      <td>10</td>\n",
       "      <td>31</td>\n",
       "      <td>7</td>\n",
       "      <td>-1</td>\n",
       "      <td>0</td>\n",
       "      <td>0</td>\n",
       "      <td>0</td>\n",
       "      <td>...</td>\n",
       "      <td>2</td>\n",
       "      <td>0</td>\n",
       "      <td>0</td>\n",
       "      <td>0</td>\n",
       "      <td>0</td>\n",
       "      <td>1</td>\n",
       "      <td>25</td>\n",
       "      <td>3</td>\n",
       "      <td>1</td>\n",
       "      <td>1</td>\n",
       "    </tr>\n",
       "    <tr>\n",
       "      <th>3</th>\n",
       "      <td>http://www.garage-pirenne.be/index.php?option=...</td>\n",
       "      <td>1</td>\n",
       "      <td>88</td>\n",
       "      <td>14</td>\n",
       "      <td>10</td>\n",
       "      <td>9</td>\n",
       "      <td>2</td>\n",
       "      <td>1</td>\n",
       "      <td>0</td>\n",
       "      <td>1</td>\n",
       "      <td>...</td>\n",
       "      <td>3</td>\n",
       "      <td>4</td>\n",
       "      <td>1</td>\n",
       "      <td>0</td>\n",
       "      <td>1</td>\n",
       "      <td>7</td>\n",
       "      <td>63</td>\n",
       "      <td>1</td>\n",
       "      <td>1</td>\n",
       "      <td>1</td>\n",
       "    </tr>\n",
       "    <tr>\n",
       "      <th>4</th>\n",
       "      <td>http://adventure-nicaragua.net/index.php?optio...</td>\n",
       "      <td>1</td>\n",
       "      <td>235</td>\n",
       "      <td>19</td>\n",
       "      <td>10</td>\n",
       "      <td>9</td>\n",
       "      <td>3</td>\n",
       "      <td>1</td>\n",
       "      <td>0</td>\n",
       "      <td>1</td>\n",
       "      <td>...</td>\n",
       "      <td>2</td>\n",
       "      <td>3</td>\n",
       "      <td>1</td>\n",
       "      <td>0</td>\n",
       "      <td>0</td>\n",
       "      <td>22</td>\n",
       "      <td>199</td>\n",
       "      <td>1</td>\n",
       "      <td>1</td>\n",
       "      <td>1</td>\n",
       "    </tr>\n",
       "  </tbody>\n",
       "</table>\n",
       "<p>5 rows × 21 columns</p>\n",
       "</div>"
      ],
      "text/plain": [
       "                                                 url  type  url_length  \\\n",
       "0                                   br-icloud.com.br     2          16   \n",
       "1                mp3raid.com/music/krizz_kaliko.html     0          35   \n",
       "2                    bopsecrets.org/rexroth/cr/1.htm     0          31   \n",
       "3  http://www.garage-pirenne.be/index.php?option=...     1          88   \n",
       "4  http://adventure-nicaragua.net/index.php?optio...     1         235   \n",
       "\n",
       "   hostname_length  path_length  fd_length  tld_length  count-  count@  \\\n",
       "0                9           16          0          -1       1       0   \n",
       "1                7           35          5          -1       0       0   \n",
       "2               10           31          7          -1       0       0   \n",
       "3               14           10          9           2       1       0   \n",
       "4               19           10          9           3       1       0   \n",
       "\n",
       "   count?  ...  count.  count=  count-http  count-https  count-www  \\\n",
       "0       0  ...       2       0           0            0          0   \n",
       "1       0  ...       2       0           0            0          0   \n",
       "2       0  ...       2       0           0            0          0   \n",
       "3       1  ...       3       4           1            0          1   \n",
       "4       1  ...       2       3           1            0          0   \n",
       "\n",
       "   count-digits  count-letters  count_dir  use_of_ip  short_url  \n",
       "0             0             13          0          1          1  \n",
       "1             1             29          2          1          1  \n",
       "2             1             25          3          1          1  \n",
       "3             7             63          1          1          1  \n",
       "4            22            199          1          1          1  \n",
       "\n",
       "[5 rows x 21 columns]"
      ]
     },
     "execution_count": 51,
     "metadata": {},
     "output_type": "execute_result"
    }
   ],
   "source": [
    "data1.head()"
   ]
  },
  {
   "cell_type": "code",
   "execution_count": 52,
   "id": "T3iXpnvVLfiN",
   "metadata": {
    "colab": {
     "base_uri": "https://localhost:8080/",
     "height": 290
    },
    "id": "T3iXpnvVLfiN",
    "outputId": "aada7783-d2dd-4ae0-9953-68f4ca9f3c08"
   },
   "outputs": [
    {
     "data": {
      "text/html": [
       "<div>\n",
       "<style scoped>\n",
       "    .dataframe tbody tr th:only-of-type {\n",
       "        vertical-align: middle;\n",
       "    }\n",
       "\n",
       "    .dataframe tbody tr th {\n",
       "        vertical-align: top;\n",
       "    }\n",
       "\n",
       "    .dataframe thead th {\n",
       "        text-align: right;\n",
       "    }\n",
       "</style>\n",
       "<table border=\"1\" class=\"dataframe\">\n",
       "  <thead>\n",
       "    <tr style=\"text-align: right;\">\n",
       "      <th></th>\n",
       "      <th>URL</th>\n",
       "      <th>Label</th>\n",
       "      <th>url_length</th>\n",
       "      <th>hostname_length</th>\n",
       "      <th>path_length</th>\n",
       "      <th>fd_length</th>\n",
       "      <th>tld_length</th>\n",
       "      <th>count-</th>\n",
       "      <th>count@</th>\n",
       "      <th>count?</th>\n",
       "      <th>...</th>\n",
       "      <th>count.</th>\n",
       "      <th>count=</th>\n",
       "      <th>count-http</th>\n",
       "      <th>count-https</th>\n",
       "      <th>count-www</th>\n",
       "      <th>count-digits</th>\n",
       "      <th>count-letters</th>\n",
       "      <th>count_dir</th>\n",
       "      <th>use_of_ip</th>\n",
       "      <th>short_url</th>\n",
       "    </tr>\n",
       "  </thead>\n",
       "  <tbody>\n",
       "    <tr>\n",
       "      <th>0</th>\n",
       "      <td>nobell.it/70ffb52d079109dca5664cce6f317373782/...</td>\n",
       "      <td>1</td>\n",
       "      <td>225</td>\n",
       "      <td>6</td>\n",
       "      <td>134</td>\n",
       "      <td>35</td>\n",
       "      <td>-1</td>\n",
       "      <td>4</td>\n",
       "      <td>0</td>\n",
       "      <td>1</td>\n",
       "      <td>...</td>\n",
       "      <td>6</td>\n",
       "      <td>4</td>\n",
       "      <td>0</td>\n",
       "      <td>0</td>\n",
       "      <td>0</td>\n",
       "      <td>58</td>\n",
       "      <td>135</td>\n",
       "      <td>8</td>\n",
       "      <td>1</td>\n",
       "      <td>1</td>\n",
       "    </tr>\n",
       "    <tr>\n",
       "      <th>1</th>\n",
       "      <td>www.dghjdgf.com/paypal.co.uk/cycgi-bin/webscrc...</td>\n",
       "      <td>1</td>\n",
       "      <td>81</td>\n",
       "      <td>7</td>\n",
       "      <td>81</td>\n",
       "      <td>12</td>\n",
       "      <td>-1</td>\n",
       "      <td>2</td>\n",
       "      <td>0</td>\n",
       "      <td>0</td>\n",
       "      <td>...</td>\n",
       "      <td>5</td>\n",
       "      <td>2</td>\n",
       "      <td>0</td>\n",
       "      <td>0</td>\n",
       "      <td>1</td>\n",
       "      <td>1</td>\n",
       "      <td>65</td>\n",
       "      <td>4</td>\n",
       "      <td>1</td>\n",
       "      <td>1</td>\n",
       "    </tr>\n",
       "    <tr>\n",
       "      <th>2</th>\n",
       "      <td>serviciosbys.com/paypal.cgi.bin.get-into.herf....</td>\n",
       "      <td>1</td>\n",
       "      <td>177</td>\n",
       "      <td>12</td>\n",
       "      <td>177</td>\n",
       "      <td>76</td>\n",
       "      <td>-1</td>\n",
       "      <td>1</td>\n",
       "      <td>0</td>\n",
       "      <td>0</td>\n",
       "      <td>...</td>\n",
       "      <td>7</td>\n",
       "      <td>0</td>\n",
       "      <td>0</td>\n",
       "      <td>0</td>\n",
       "      <td>0</td>\n",
       "      <td>47</td>\n",
       "      <td>111</td>\n",
       "      <td>11</td>\n",
       "      <td>1</td>\n",
       "      <td>1</td>\n",
       "    </tr>\n",
       "    <tr>\n",
       "      <th>3</th>\n",
       "      <td>mail.printakid.com/www.online.americanexpress....</td>\n",
       "      <td>1</td>\n",
       "      <td>60</td>\n",
       "      <td>9</td>\n",
       "      <td>60</td>\n",
       "      <td>30</td>\n",
       "      <td>-1</td>\n",
       "      <td>0</td>\n",
       "      <td>0</td>\n",
       "      <td>0</td>\n",
       "      <td>...</td>\n",
       "      <td>6</td>\n",
       "      <td>0</td>\n",
       "      <td>0</td>\n",
       "      <td>0</td>\n",
       "      <td>1</td>\n",
       "      <td>0</td>\n",
       "      <td>52</td>\n",
       "      <td>2</td>\n",
       "      <td>1</td>\n",
       "      <td>1</td>\n",
       "    </tr>\n",
       "    <tr>\n",
       "      <th>4</th>\n",
       "      <td>thewhiskeydregs.com/wp-content/themes/widescre...</td>\n",
       "      <td>1</td>\n",
       "      <td>116</td>\n",
       "      <td>15</td>\n",
       "      <td>79</td>\n",
       "      <td>10</td>\n",
       "      <td>-1</td>\n",
       "      <td>1</td>\n",
       "      <td>0</td>\n",
       "      <td>1</td>\n",
       "      <td>...</td>\n",
       "      <td>1</td>\n",
       "      <td>0</td>\n",
       "      <td>0</td>\n",
       "      <td>0</td>\n",
       "      <td>0</td>\n",
       "      <td>21</td>\n",
       "      <td>82</td>\n",
       "      <td>7</td>\n",
       "      <td>1</td>\n",
       "      <td>1</td>\n",
       "    </tr>\n",
       "  </tbody>\n",
       "</table>\n",
       "<p>5 rows × 21 columns</p>\n",
       "</div>"
      ],
      "text/plain": [
       "                                                 URL  Label  url_length  \\\n",
       "0  nobell.it/70ffb52d079109dca5664cce6f317373782/...      1         225   \n",
       "1  www.dghjdgf.com/paypal.co.uk/cycgi-bin/webscrc...      1          81   \n",
       "2  serviciosbys.com/paypal.cgi.bin.get-into.herf....      1         177   \n",
       "3  mail.printakid.com/www.online.americanexpress....      1          60   \n",
       "4  thewhiskeydregs.com/wp-content/themes/widescre...      1         116   \n",
       "\n",
       "   hostname_length  path_length  fd_length  tld_length  count-  count@  \\\n",
       "0                6          134         35          -1       4       0   \n",
       "1                7           81         12          -1       2       0   \n",
       "2               12          177         76          -1       1       0   \n",
       "3                9           60         30          -1       0       0   \n",
       "4               15           79         10          -1       1       0   \n",
       "\n",
       "   count?  ...  count.  count=  count-http  count-https  count-www  \\\n",
       "0       1  ...       6       4           0            0          0   \n",
       "1       0  ...       5       2           0            0          1   \n",
       "2       0  ...       7       0           0            0          0   \n",
       "3       0  ...       6       0           0            0          1   \n",
       "4       1  ...       1       0           0            0          0   \n",
       "\n",
       "   count-digits  count-letters  count_dir  use_of_ip  short_url  \n",
       "0            58            135          8          1          1  \n",
       "1             1             65          4          1          1  \n",
       "2            47            111         11          1          1  \n",
       "3             0             52          2          1          1  \n",
       "4            21             82          7          1          1  \n",
       "\n",
       "[5 rows x 21 columns]"
      ]
     },
     "execution_count": 52,
     "metadata": {},
     "output_type": "execute_result"
    }
   ],
   "source": [
    "data2.head()"
   ]
  },
  {
   "cell_type": "markdown",
   "id": "PaveTLWilQjr",
   "metadata": {
    "id": "PaveTLWilQjr"
   },
   "source": [
    "### **Model Development**"
   ]
  },
  {
   "cell_type": "markdown",
   "id": "8f3b2790",
   "metadata": {
    "id": "8f3b2790"
   },
   "source": [
    "Standardization"
   ]
  },
  {
   "cell_type": "code",
   "execution_count": 53,
   "id": "492ebf1a",
   "metadata": {
    "id": "492ebf1a"
   },
   "outputs": [],
   "source": [
    "from sklearn.ensemble import RandomForestClassifier\n",
    "from sklearn.linear_model import LogisticRegression\n",
    "from sklearn.tree import DecisionTreeClassifier\n",
    "from sklearn.neighbors import KNeighborsClassifier\n",
    "import xgboost as xgb\n",
    "import lightgbm as lgb\n",
    "from sklearn.preprocessing import StandardScaler\n",
    "from sklearn.pipeline import make_pipeline\n",
    "from hyperopt import fmin, tpe, hp, STATUS_OK, Trials, space_eval\n",
    "import time\n",
    "\n",
    "from sklearn.metrics import ConfusionMatrixDisplay\n",
    "from sklearn.metrics import RocCurveDisplay\n",
    "from sklearn.pipeline import Pipeline\n",
    "from sklearn.model_selection import train_test_split, cross_val_score, cross_val_predict\n",
    "from sklearn.metrics import accuracy_score, recall_score, precision_score, f1_score, classification_report, confusion_matrix"
   ]
  },
  {
   "cell_type": "code",
   "execution_count": 54,
   "id": "288686a1",
   "metadata": {
    "id": "288686a1"
   },
   "outputs": [],
   "source": [
    "data1 = data1.drop(columns=[\"url\"])\n",
    "data2 = data2.drop(columns=[\"URL\"])"
   ]
  },
  {
   "cell_type": "code",
   "execution_count": 55,
   "id": "ed7bc495",
   "metadata": {
    "id": "ed7bc495"
   },
   "outputs": [],
   "source": [
    "# Dataset 1\n",
    "\n",
    "# Select the columns to be scaled (excluding \"url\" and \"type\")\n",
    "columns_to_scale = data1.columns.difference(['url', 'type'])\n",
    "\n",
    "# Initialize the StandardScaler\n",
    "scaler = StandardScaler()\n",
    "\n",
    "# Fit and transform the selected columns\n",
    "data1[columns_to_scale] = scaler.fit_transform(data1[columns_to_scale])"
   ]
  },
  {
   "cell_type": "code",
   "execution_count": 167,
   "id": "D4DPmUev0otI",
   "metadata": {
    "colab": {
     "base_uri": "https://localhost:8080/",
     "height": 307
    },
    "id": "D4DPmUev0otI",
    "outputId": "4e599305-e2d9-4ab4-b916-dc6c7a7ca579"
   },
   "outputs": [
    {
     "data": {
      "text/html": [
       "<div>\n",
       "<style scoped>\n",
       "    .dataframe tbody tr th:only-of-type {\n",
       "        vertical-align: middle;\n",
       "    }\n",
       "\n",
       "    .dataframe tbody tr th {\n",
       "        vertical-align: top;\n",
       "    }\n",
       "\n",
       "    .dataframe thead th {\n",
       "        text-align: right;\n",
       "    }\n",
       "</style>\n",
       "<table border=\"1\" class=\"dataframe\">\n",
       "  <thead>\n",
       "    <tr style=\"text-align: right;\">\n",
       "      <th></th>\n",
       "      <th>type</th>\n",
       "      <th>url_length</th>\n",
       "      <th>hostname_length</th>\n",
       "      <th>path_length</th>\n",
       "      <th>fd_length</th>\n",
       "      <th>tld_length</th>\n",
       "      <th>count-</th>\n",
       "      <th>count@</th>\n",
       "      <th>count?</th>\n",
       "      <th>count%</th>\n",
       "      <th>count.</th>\n",
       "      <th>count=</th>\n",
       "      <th>count-http</th>\n",
       "      <th>count-https</th>\n",
       "      <th>count-www</th>\n",
       "      <th>count-digits</th>\n",
       "      <th>count-letters</th>\n",
       "      <th>count_dir</th>\n",
       "      <th>use_of_ip</th>\n",
       "      <th>short_url</th>\n",
       "    </tr>\n",
       "  </thead>\n",
       "  <tbody>\n",
       "    <tr>\n",
       "      <th>0</th>\n",
       "      <td>2</td>\n",
       "      <td>-0.974781</td>\n",
       "      <td>-0.183276</td>\n",
       "      <td>-0.840894</td>\n",
       "      <td>-0.770733</td>\n",
       "      <td>-0.545780</td>\n",
       "      <td>-0.188076</td>\n",
       "      <td>-0.04115</td>\n",
       "      <td>-0.503155</td>\n",
       "      <td>-0.095644</td>\n",
       "      <td>-0.130042</td>\n",
       "      <td>-0.396726</td>\n",
       "      <td>-0.612982</td>\n",
       "      <td>-0.159821</td>\n",
       "      <td>-0.481887</td>\n",
       "      <td>-0.461891</td>\n",
       "      <td>-1.013995</td>\n",
       "      <td>-1.474576</td>\n",
       "      <td>0.10726</td>\n",
       "      <td>0.255943</td>\n",
       "    </tr>\n",
       "    <tr>\n",
       "      <th>1</th>\n",
       "      <td>0</td>\n",
       "      <td>-0.551566</td>\n",
       "      <td>-0.596480</td>\n",
       "      <td>-0.203751</td>\n",
       "      <td>-0.318848</td>\n",
       "      <td>-0.545780</td>\n",
       "      <td>-0.523114</td>\n",
       "      <td>-0.04115</td>\n",
       "      <td>-0.503155</td>\n",
       "      <td>-0.095644</td>\n",
       "      <td>-0.130042</td>\n",
       "      <td>-0.396726</td>\n",
       "      <td>-0.612982</td>\n",
       "      <td>-0.159821</td>\n",
       "      <td>-0.481887</td>\n",
       "      <td>-0.375909</td>\n",
       "      <td>-0.509818</td>\n",
       "      <td>-0.198064</td>\n",
       "      <td>0.10726</td>\n",
       "      <td>0.255943</td>\n",
       "    </tr>\n",
       "    <tr>\n",
       "      <th>2</th>\n",
       "      <td>0</td>\n",
       "      <td>-0.640664</td>\n",
       "      <td>0.023326</td>\n",
       "      <td>-0.337887</td>\n",
       "      <td>-0.138093</td>\n",
       "      <td>-0.545780</td>\n",
       "      <td>-0.523114</td>\n",
       "      <td>-0.04115</td>\n",
       "      <td>-0.503155</td>\n",
       "      <td>-0.095644</td>\n",
       "      <td>-0.130042</td>\n",
       "      <td>-0.396726</td>\n",
       "      <td>-0.612982</td>\n",
       "      <td>-0.159821</td>\n",
       "      <td>-0.481887</td>\n",
       "      <td>-0.375909</td>\n",
       "      <td>-0.635862</td>\n",
       "      <td>0.440193</td>\n",
       "      <td>0.10726</td>\n",
       "      <td>0.255943</td>\n",
       "    </tr>\n",
       "    <tr>\n",
       "      <th>3</th>\n",
       "      <td>1</td>\n",
       "      <td>0.628982</td>\n",
       "      <td>0.849733</td>\n",
       "      <td>-1.042098</td>\n",
       "      <td>0.042661</td>\n",
       "      <td>0.996231</td>\n",
       "      <td>-0.188076</td>\n",
       "      <td>-0.04115</td>\n",
       "      <td>1.769566</td>\n",
       "      <td>-0.095644</td>\n",
       "      <td>0.540450</td>\n",
       "      <td>2.285500</td>\n",
       "      <td>1.532835</td>\n",
       "      <td>-0.159821</td>\n",
       "      <td>2.009364</td>\n",
       "      <td>0.139985</td>\n",
       "      <td>0.561558</td>\n",
       "      <td>-0.836320</td>\n",
       "      <td>0.10726</td>\n",
       "      <td>0.255943</td>\n",
       "    </tr>\n",
       "    <tr>\n",
       "      <th>4</th>\n",
       "      <td>1</td>\n",
       "      <td>3.903331</td>\n",
       "      <td>1.882742</td>\n",
       "      <td>-1.042098</td>\n",
       "      <td>0.042661</td>\n",
       "      <td>1.510234</td>\n",
       "      <td>-0.188076</td>\n",
       "      <td>-0.04115</td>\n",
       "      <td>1.769566</td>\n",
       "      <td>-0.095644</td>\n",
       "      <td>-0.130042</td>\n",
       "      <td>1.614944</td>\n",
       "      <td>1.532835</td>\n",
       "      <td>-0.159821</td>\n",
       "      <td>-0.481887</td>\n",
       "      <td>1.429718</td>\n",
       "      <td>4.847061</td>\n",
       "      <td>-0.836320</td>\n",
       "      <td>0.10726</td>\n",
       "      <td>0.255943</td>\n",
       "    </tr>\n",
       "  </tbody>\n",
       "</table>\n",
       "</div>"
      ],
      "text/plain": [
       "   type  url_length  hostname_length  path_length  fd_length  tld_length  \\\n",
       "0     2   -0.974781        -0.183276    -0.840894  -0.770733   -0.545780   \n",
       "1     0   -0.551566        -0.596480    -0.203751  -0.318848   -0.545780   \n",
       "2     0   -0.640664         0.023326    -0.337887  -0.138093   -0.545780   \n",
       "3     1    0.628982         0.849733    -1.042098   0.042661    0.996231   \n",
       "4     1    3.903331         1.882742    -1.042098   0.042661    1.510234   \n",
       "\n",
       "     count-   count@    count?    count%    count.    count=  count-http  \\\n",
       "0 -0.188076 -0.04115 -0.503155 -0.095644 -0.130042 -0.396726   -0.612982   \n",
       "1 -0.523114 -0.04115 -0.503155 -0.095644 -0.130042 -0.396726   -0.612982   \n",
       "2 -0.523114 -0.04115 -0.503155 -0.095644 -0.130042 -0.396726   -0.612982   \n",
       "3 -0.188076 -0.04115  1.769566 -0.095644  0.540450  2.285500    1.532835   \n",
       "4 -0.188076 -0.04115  1.769566 -0.095644 -0.130042  1.614944    1.532835   \n",
       "\n",
       "   count-https  count-www  count-digits  count-letters  count_dir  use_of_ip  \\\n",
       "0    -0.159821  -0.481887     -0.461891      -1.013995  -1.474576    0.10726   \n",
       "1    -0.159821  -0.481887     -0.375909      -0.509818  -0.198064    0.10726   \n",
       "2    -0.159821  -0.481887     -0.375909      -0.635862   0.440193    0.10726   \n",
       "3    -0.159821   2.009364      0.139985       0.561558  -0.836320    0.10726   \n",
       "4    -0.159821  -0.481887      1.429718       4.847061  -0.836320    0.10726   \n",
       "\n",
       "   short_url  \n",
       "0   0.255943  \n",
       "1   0.255943  \n",
       "2   0.255943  \n",
       "3   0.255943  \n",
       "4   0.255943  "
      ]
     },
     "execution_count": 167,
     "metadata": {},
     "output_type": "execute_result"
    }
   ],
   "source": [
    "data1.head()"
   ]
  },
  {
   "cell_type": "code",
   "execution_count": 168,
   "id": "566e1da9",
   "metadata": {
    "id": "566e1da9"
   },
   "outputs": [],
   "source": [
    "# Dataset 2\n",
    "\n",
    "# Select the columns to be scaled (excluding \"URL\" and \"Label\")\n",
    "columns_to_scale = data2.columns.difference(['URL', 'Label'])\n",
    "\n",
    "# Initialize the StandardScaler\n",
    "scaler = StandardScaler()\n",
    "\n",
    "# Fit and transform the selected columns\n",
    "data2[columns_to_scale] = scaler.fit_transform(data2[columns_to_scale])"
   ]
  },
  {
   "cell_type": "code",
   "execution_count": 169,
   "id": "GfnL0fUV1TeW",
   "metadata": {
    "colab": {
     "base_uri": "https://localhost:8080/",
     "height": 290
    },
    "id": "GfnL0fUV1TeW",
    "outputId": "a7103a25-e9a2-4fa1-f99a-2d5c725dd74d"
   },
   "outputs": [
    {
     "data": {
      "text/html": [
       "<div>\n",
       "<style scoped>\n",
       "    .dataframe tbody tr th:only-of-type {\n",
       "        vertical-align: middle;\n",
       "    }\n",
       "\n",
       "    .dataframe tbody tr th {\n",
       "        vertical-align: top;\n",
       "    }\n",
       "\n",
       "    .dataframe thead th {\n",
       "        text-align: right;\n",
       "    }\n",
       "</style>\n",
       "<table border=\"1\" class=\"dataframe\">\n",
       "  <thead>\n",
       "    <tr style=\"text-align: right;\">\n",
       "      <th></th>\n",
       "      <th>Label</th>\n",
       "      <th>url_length</th>\n",
       "      <th>hostname_length</th>\n",
       "      <th>path_length</th>\n",
       "      <th>fd_length</th>\n",
       "      <th>tld_length</th>\n",
       "      <th>count-</th>\n",
       "      <th>count@</th>\n",
       "      <th>count?</th>\n",
       "      <th>count%</th>\n",
       "      <th>count.</th>\n",
       "      <th>count=</th>\n",
       "      <th>count-http</th>\n",
       "      <th>count-https</th>\n",
       "      <th>count-www</th>\n",
       "      <th>count-digits</th>\n",
       "      <th>count-letters</th>\n",
       "      <th>count_dir</th>\n",
       "      <th>use_of_ip</th>\n",
       "      <th>short_url</th>\n",
       "    </tr>\n",
       "  </thead>\n",
       "  <tbody>\n",
       "    <tr>\n",
       "      <th>0</th>\n",
       "      <td>1</td>\n",
       "      <td>4.050126</td>\n",
       "      <td>-0.777214</td>\n",
       "      <td>3.290650</td>\n",
       "      <td>2.591697</td>\n",
       "      <td>-0.014434</td>\n",
       "      <td>1.124892</td>\n",
       "      <td>-0.05635</td>\n",
       "      <td>1.779505</td>\n",
       "      <td>-0.085032</td>\n",
       "      <td>2.586987</td>\n",
       "      <td>3.972404</td>\n",
       "      <td>-0.07591</td>\n",
       "      <td>-0.041328</td>\n",
       "      <td>-0.332842</td>\n",
       "      <td>4.712076</td>\n",
       "      <td>3.153571</td>\n",
       "      <td>3.671028</td>\n",
       "      <td>0.073088</td>\n",
       "      <td>0.269793</td>\n",
       "    </tr>\n",
       "    <tr>\n",
       "      <th>1</th>\n",
       "      <td>1</td>\n",
       "      <td>0.689277</td>\n",
       "      <td>-0.560624</td>\n",
       "      <td>1.347850</td>\n",
       "      <td>0.361697</td>\n",
       "      <td>-0.014434</td>\n",
       "      <td>0.323104</td>\n",
       "      <td>-0.05635</td>\n",
       "      <td>-0.349737</td>\n",
       "      <td>-0.085032</td>\n",
       "      <td>1.930673</td>\n",
       "      <td>1.837141</td>\n",
       "      <td>-0.07591</td>\n",
       "      <td>-0.041328</td>\n",
       "      <td>2.836942</td>\n",
       "      <td>-0.331381</td>\n",
       "      <td>0.838336</td>\n",
       "      <td>1.032494</td>\n",
       "      <td>0.073088</td>\n",
       "      <td>0.269793</td>\n",
       "    </tr>\n",
       "    <tr>\n",
       "      <th>2</th>\n",
       "      <td>1</td>\n",
       "      <td>2.929843</td>\n",
       "      <td>0.522329</td>\n",
       "      <td>4.866884</td>\n",
       "      <td>6.566916</td>\n",
       "      <td>-0.014434</td>\n",
       "      <td>-0.077790</td>\n",
       "      <td>-0.05635</td>\n",
       "      <td>-0.349737</td>\n",
       "      <td>-0.085032</td>\n",
       "      <td>3.243301</td>\n",
       "      <td>-0.298123</td>\n",
       "      <td>-0.07591</td>\n",
       "      <td>-0.041328</td>\n",
       "      <td>-0.332842</td>\n",
       "      <td>3.738777</td>\n",
       "      <td>2.359776</td>\n",
       "      <td>5.649929</td>\n",
       "      <td>0.073088</td>\n",
       "      <td>0.269793</td>\n",
       "    </tr>\n",
       "    <tr>\n",
       "      <th>3</th>\n",
       "      <td>1</td>\n",
       "      <td>0.199153</td>\n",
       "      <td>-0.127443</td>\n",
       "      <td>0.578061</td>\n",
       "      <td>2.106915</td>\n",
       "      <td>-0.014434</td>\n",
       "      <td>-0.478684</td>\n",
       "      <td>-0.05635</td>\n",
       "      <td>-0.349737</td>\n",
       "      <td>-0.085032</td>\n",
       "      <td>2.586987</td>\n",
       "      <td>-0.298123</td>\n",
       "      <td>-0.07591</td>\n",
       "      <td>-0.041328</td>\n",
       "      <td>2.836942</td>\n",
       "      <td>-0.419863</td>\n",
       "      <td>0.408364</td>\n",
       "      <td>-0.286774</td>\n",
       "      <td>0.073088</td>\n",
       "      <td>0.269793</td>\n",
       "    </tr>\n",
       "    <tr>\n",
       "      <th>4</th>\n",
       "      <td>1</td>\n",
       "      <td>1.506150</td>\n",
       "      <td>1.172100</td>\n",
       "      <td>1.274537</td>\n",
       "      <td>0.167783</td>\n",
       "      <td>-0.014434</td>\n",
       "      <td>-0.077790</td>\n",
       "      <td>-0.05635</td>\n",
       "      <td>1.779505</td>\n",
       "      <td>-0.085032</td>\n",
       "      <td>-0.694583</td>\n",
       "      <td>-0.298123</td>\n",
       "      <td>-0.07591</td>\n",
       "      <td>-0.041328</td>\n",
       "      <td>-0.332842</td>\n",
       "      <td>1.438253</td>\n",
       "      <td>1.400608</td>\n",
       "      <td>3.011395</td>\n",
       "      <td>0.073088</td>\n",
       "      <td>0.269793</td>\n",
       "    </tr>\n",
       "  </tbody>\n",
       "</table>\n",
       "</div>"
      ],
      "text/plain": [
       "   Label  url_length  hostname_length  path_length  fd_length  tld_length  \\\n",
       "0      1    4.050126        -0.777214     3.290650   2.591697   -0.014434   \n",
       "1      1    0.689277        -0.560624     1.347850   0.361697   -0.014434   \n",
       "2      1    2.929843         0.522329     4.866884   6.566916   -0.014434   \n",
       "3      1    0.199153        -0.127443     0.578061   2.106915   -0.014434   \n",
       "4      1    1.506150         1.172100     1.274537   0.167783   -0.014434   \n",
       "\n",
       "     count-   count@    count?    count%    count.    count=  count-http  \\\n",
       "0  1.124892 -0.05635  1.779505 -0.085032  2.586987  3.972404    -0.07591   \n",
       "1  0.323104 -0.05635 -0.349737 -0.085032  1.930673  1.837141    -0.07591   \n",
       "2 -0.077790 -0.05635 -0.349737 -0.085032  3.243301 -0.298123    -0.07591   \n",
       "3 -0.478684 -0.05635 -0.349737 -0.085032  2.586987 -0.298123    -0.07591   \n",
       "4 -0.077790 -0.05635  1.779505 -0.085032 -0.694583 -0.298123    -0.07591   \n",
       "\n",
       "   count-https  count-www  count-digits  count-letters  count_dir  use_of_ip  \\\n",
       "0    -0.041328  -0.332842      4.712076       3.153571   3.671028   0.073088   \n",
       "1    -0.041328   2.836942     -0.331381       0.838336   1.032494   0.073088   \n",
       "2    -0.041328  -0.332842      3.738777       2.359776   5.649929   0.073088   \n",
       "3    -0.041328   2.836942     -0.419863       0.408364  -0.286774   0.073088   \n",
       "4    -0.041328  -0.332842      1.438253       1.400608   3.011395   0.073088   \n",
       "\n",
       "   short_url  \n",
       "0   0.269793  \n",
       "1   0.269793  \n",
       "2   0.269793  \n",
       "3   0.269793  \n",
       "4   0.269793  "
      ]
     },
     "execution_count": 169,
     "metadata": {},
     "output_type": "execute_result"
    }
   ],
   "source": [
    "data2.head()"
   ]
  },
  {
   "cell_type": "markdown",
   "id": "4366ccaa",
   "metadata": {
    "id": "4366ccaa"
   },
   "source": [
    "Train-Test Split"
   ]
  },
  {
   "cell_type": "code",
   "execution_count": 170,
   "id": "ffefd010",
   "metadata": {
    "id": "ffefd010"
   },
   "outputs": [],
   "source": [
    "# Split to train and test sets\n",
    "\n",
    "# Split the DataFrame into features (X) and target labels (y)\n",
    "X_1 = data1.drop(columns=[\"type\"])\n",
    "y_1 = data1[\"type\"]\n",
    "\n",
    "# Split the DataFrame into features (X) and target labels (y)\n",
    "X_2 = data2.drop(columns=[\"Label\"])\n",
    "y_2 = data2[\"Label\"]\n",
    "\n",
    "x_train_1,x_test_1,y_train_1,y_test_1 = train_test_split(X_1,y_1,test_size=0.3, random_state=39)\n",
    "x_train_2,x_test_2,y_train_2,y_test_2 = train_test_split(X_2,y_2,test_size=0.3, random_state=39)"
   ]
  },
  {
   "cell_type": "code",
   "execution_count": 171,
   "id": "fec8aaca",
   "metadata": {
    "colab": {
     "base_uri": "https://localhost:8080/"
    },
    "id": "fec8aaca",
    "outputId": "aa60dae4-89ee-4be9-8a5f-ecc9e9a8ce6a"
   },
   "outputs": [
    {
     "name": "stdout",
     "output_type": "stream",
     "text": [
      "X_train Shape : (448787, 19)\n",
      "Y_train Shape : (448787,)\n",
      "X_test  Shape : (192338, 19)\n",
      "Y_test  Shape : (192338,)\n"
     ]
    }
   ],
   "source": [
    "# Dataset 1\n",
    "\n",
    "print(f\"X_train Shape : {x_train_1.shape}\")\n",
    "print(f\"Y_train Shape : {y_train_1.shape}\")\n",
    "print(f\"X_test  Shape : {x_test_1.shape}\")\n",
    "print(f\"Y_test  Shape : {y_test_1.shape}\")"
   ]
  },
  {
   "cell_type": "code",
   "execution_count": 172,
   "id": "k1Yf2AuuGgwB",
   "metadata": {
    "colab": {
     "base_uri": "https://localhost:8080/"
    },
    "id": "k1Yf2AuuGgwB",
    "outputId": "648b07b8-62e3-4fc9-cbd6-d468d6a8712e"
   },
   "outputs": [
    {
     "name": "stdout",
     "output_type": "stream",
     "text": [
      "X_train Shape : (355037, 19)\n",
      "Y_train Shape : (355037,)\n",
      "X_test  Shape : (152159, 19)\n",
      "Y_test  Shape : (152159,)\n"
     ]
    }
   ],
   "source": [
    "# Dataset 2\n",
    "\n",
    "print(f\"X_train Shape : {x_train_2.shape}\")\n",
    "print(f\"Y_train Shape : {y_train_2.shape}\")\n",
    "print(f\"X_test  Shape : {x_test_2.shape}\")\n",
    "print(f\"Y_test  Shape : {y_test_2.shape}\")"
   ]
  },
  {
   "cell_type": "code",
   "execution_count": 173,
   "id": "761e02ec",
   "metadata": {
    "id": "761e02ec"
   },
   "outputs": [],
   "source": [
    "# Types of classifier\n",
    "\n",
    "models = [\n",
    "    RandomForestClassifier,\n",
    "    DecisionTreeClassifier,\n",
    "    KNeighborsClassifier,\n",
    "    xgb.XGBClassifier,\n",
    "    lgb.LGBMClassifier,\n",
    "    LogisticRegression\n",
    "]"
   ]
  },
  {
   "cell_type": "markdown",
   "id": "c7123603",
   "metadata": {
    "id": "c7123603"
   },
   "source": [
    "Handling Imbalance Data"
   ]
  },
  {
   "cell_type": "code",
   "execution_count": 174,
   "id": "X8KYhXatlw_w",
   "metadata": {
    "id": "X8KYhXatlw_w"
   },
   "outputs": [],
   "source": [
    "from imblearn.over_sampling import SMOTE\n",
    "\n",
    "# Dataset 1\n",
    "# Instantiate the SMOTE object\n",
    "smote = SMOTE(random_state=42)\n",
    "\n",
    "# Apply SMOTE to generate synthetic samples\n",
    "x_train_1, y_train_1 = smote.fit_resample(x_train_1, y_train_1)"
   ]
  },
  {
   "cell_type": "code",
   "execution_count": 175,
   "id": "gqCc46Y28p-G",
   "metadata": {
    "colab": {
     "base_uri": "https://localhost:8080/",
     "height": 521
    },
    "id": "gqCc46Y28p-G",
    "outputId": "a13feb5d-f5c0-4d96-b642-3747dd9681b5"
   },
   "outputs": [
    {
     "data": {
      "image/png": "[encoded data removed]",
      "text/plain": [
       "<Figure size 1200x600 with 1 Axes>"
      ]
     },
     "metadata": {},
     "output_type": "display_data"
    }
   ],
   "source": [
    "# Calculate the class distribution after SMOTE\n",
    "after_smote_class_counts_1 = pd.Series(y_train_1).value_counts()\n",
    "\n",
    "# Labels for the pie chart\n",
    "labels_1 = after_smote_class_counts_1.index\n",
    "\n",
    "# Class counts after SMOTE\n",
    "after_smote_counts_1 = after_smote_class_counts_1.values\n",
    "\n",
    "# Define a custom color palette with varying shades of blue\n",
    "custom_colors = ['#00A9FF', '#89CFF3', '#A0E9FF', '#CDF5FD']\n",
    "\n",
    "# Create a pie chart\n",
    "plt.figure(figsize=(12, 6))\n",
    "\n",
    "# Pie chart after SMOTE with custom colors\n",
    "plt.pie(after_smote_counts_1, labels=['' for _ in labels_1], autopct='%1.1f%%', startangle=90, colors=custom_colors)\n",
    "plt.title('Class Distribution After SMOTE in Dataset 1')\n",
    "\n",
    "# Create a legend for color and label\n",
    "plt.legend(labels=labels_1, loc=\"upper right\")\n",
    "\n",
    "plt.show()"
   ]
  },
  {
   "cell_type": "code",
   "execution_count": 176,
   "id": "KGU4YbZvC2mT",
   "metadata": {
    "id": "KGU4YbZvC2mT"
   },
   "outputs": [],
   "source": [
    "# Dataset 2\n",
    "# Instantiate the SMOTE object\n",
    "smote = SMOTE(random_state=42)\n",
    "\n",
    "# Apply SMOTE to generate synthetic samples\n",
    "x_train_2, y_train_2 = smote.fit_resample(x_train_2, y_train_2)"
   ]
  },
  {
   "cell_type": "code",
   "execution_count": 177,
   "id": "h09_9pI3DR60",
   "metadata": {
    "colab": {
     "base_uri": "https://localhost:8080/",
     "height": 521
    },
    "id": "h09_9pI3DR60",
    "outputId": "e214f34e-458e-4706-d7a9-d10236bb3746"
   },
   "outputs": [
    {
     "data": {
      "image/png": "[encoded data removed]",
      "text/plain": [
       "<Figure size 1200x600 with 1 Axes>"
      ]
     },
     "metadata": {},
     "output_type": "display_data"
    }
   ],
   "source": [
    "# Calculate the class distribution after SMOTE\n",
    "after_smote_class_counts_2 = pd.Series(y_train_2).value_counts()\n",
    "\n",
    "# Labels for the pie chart\n",
    "labels_2 = after_smote_class_counts_2.index\n",
    "\n",
    "# Class counts after SMOTE\n",
    "after_smote_counts_2 = after_smote_class_counts_2.values\n",
    "\n",
    "# Define a custom color palette with varying shades of blue\n",
    "custom_colors = ['#00A9FF', '#89CFF3', '#A0E9FF', '#CDF5FD']\n",
    "\n",
    "# Create a pie chart\n",
    "plt.figure(figsize=(12, 6))\n",
    "\n",
    "# Pie chart after SMOTE with custom colors\n",
    "plt.pie(after_smote_counts_2, labels=['' for _ in labels_2], autopct='%1.1f%%', startangle=90, colors=custom_colors)\n",
    "plt.title('Class Distribution After SMOTE in Dataset 2')\n",
    "\n",
    "# Create a legend for color and label\n",
    "plt.legend(labels=labels_2, loc=\"upper right\")\n",
    "\n",
    "plt.show()"
   ]
  },
  {
   "cell_type": "markdown",
   "id": "86d2bded",
   "metadata": {
    "id": "86d2bded"
   },
   "source": [
    "Hyperparameter Tuning"
   ]
  },
  {
   "cell_type": "code",
   "execution_count": 178,
   "id": "HRjkKzXigjRo",
   "metadata": {
    "id": "HRjkKzXigjRo"
   },
   "outputs": [],
   "source": [
    "# Hyperparameter spaces for hyperopt\n",
    "space_rf = {\n",
    "    'n_estimators': hp.choice('n_estimators', range(100, 1001, 100)),\n",
    "    'max_features': hp.choice('max_features', ['sqrt', 'log2']),\n",
    "    'max_depth': hp.choice('max_depth', [None] + list(range(3, 16))),\n",
    "    'criterion': hp.choice('criterion', ['gini', 'entropy'])\n",
    "}\n",
    "\n",
    "space_dt = {\n",
    "    'max_depth': hp.choice('max_depth', [None, 5, 10, 15, 20, 30, 50]),\n",
    "    'min_samples_split': hp.choice('min_samples_split', [2, 5, 10, 15, 20]),\n",
    "    'min_samples_leaf': hp.choice('min_samples_leaf', [1, 2, 4, 6, 8])\n",
    "}\n",
    "\n",
    "space_lr = {\n",
    "    'C': hp.loguniform('C', np.log(0.001), np.log(1000)),\n",
    "    'solver': hp.choice('solver', ['liblinear', 'lbfgs', 'newton-cg', 'sag', 'saga']),\n",
    "    'max_iter': hp.choice('max_iter', range(100, 1001, 100)),\n",
    "}\n",
    "\n",
    "space_knn = {\n",
    "    'n_neighbors': hp.choice('n_neighbors', range(5, 21)),\n",
    "    'weights': hp.choice('weights', ['uniform', 'distance']),\n",
    "    'algorithm': hp.choice('algorithm', ['auto', 'ball_tree', 'kd_tree'])\n",
    "}\n",
    "\n",
    "space_xgb = {\n",
    "    'n_estimators': hp.choice('n_estimators', [100, 200, 300, 400, 500]),\n",
    "    'max_depth': hp.choice('max_depth', [3, 5, 7, 9, 11, 13]),\n",
    "    'learning_rate': hp.loguniform('learning_rate', np.log(0.005), np.log(0.2)),\n",
    "    'subsample': hp.uniform('subsample', 0.5, 1),\n",
    "    'colsample_bytree': hp.uniform('colsample_bytree', 0.5, 1)\n",
    "}\n",
    "\n",
    "space_lgb = {\n",
    "    'num_leaves': hp.choice('num_leaves', [31, 70, 100, 130]),\n",
    "    'learning_rate': hp.loguniform('learning_rate', np.log(0.005), np.log(0.2)),\n",
    "    'n_estimators': hp.choice('n_estimators', [100, 300, 500, 700]),\n",
    "    'max_depth': hp.choice('max_depth', [-1, 15, 25, 35])\n",
    "}\n",
    "\n",
    "# Objective function for hyperopt\n",
    "def objective(space, model_class, x_train, y_train, x_test, y_test):\n",
    "    model = model_class(**space)\n",
    "    model.fit(x_train, y_train)\n",
    "    pred = model.predict(x_test)\n",
    "    accuracy = accuracy_score(y_test, pred)\n",
    "    return -accuracy\n",
    "\n",
    "def evaluate_model(model, x_test, y_test):\n",
    "    pred = model.predict(x_test)\n",
    "    acc = accuracy_score(pred, y_test)\n",
    "    print('Test Accuracy: {:.4f}%'.format(acc * 100))\n",
    "    print('Classification Report:')\n",
    "    print(classification_report(y_test, pred))\n",
    "    print('Confusion Matrix:')\n",
    "    cf_matrix = confusion_matrix(y_test, pred)\n",
    "    sns.heatmap(cf_matrix / np.sum(cf_matrix), annot=True, fmt='0.4%')\n",
    "    plt.show()"
   ]
  },
  {
   "cell_type": "markdown",
   "id": "8186eb02",
   "metadata": {
    "id": "8186eb02"
   },
   "source": [
    "### **Model Evaluation**"
   ]
  },
  {
   "cell_type": "code",
   "execution_count": null,
   "id": "ba68dc5a",
   "metadata": {
    "id": "ba68dc5a",
    "outputId": "6f6e8d68-8bc0-4120-956f-8516f0e27746",
    "scrolled": true
   },
   "outputs": [
    {
     "name": "stdout",
     "output_type": "stream",
     "text": [
      "######-Model => RandomForestClassifier in Dataset 1\n",
      "100%|██████████| 3/3 [54:25<00:00, 1088.34s/trial, best loss: -0.9445455396229554]\n",
      "Best Parameters: {'criterion': 'gini', 'max_depth': 10, 'max_features': 'log2', 'n_estimators': 600}\n",
      "Test Accuracy: 94.4452%\n",
      "Classification Report:\n",
      "              precision    recall  f1-score   support\n",
      "\n",
      "           0       0.97      0.97      0.97    128696\n",
      "           1       0.91      0.99      0.95     28447\n",
      "           2       0.85      0.81      0.83     28150\n",
      "           3       0.92      0.88      0.90      7045\n",
      "\n",
      "    accuracy                           0.94    192338\n",
      "   macro avg       0.91      0.91      0.91    192338\n",
      "weighted avg       0.94      0.94      0.94    192338\n",
      "\n",
      "Confusion Matrix:\n"
     ]
    },
    {
     "data": {
      "image/png": "[encoded data removed]",
      "text/plain": [
       "<Figure size 640x480 with 2 Axes>"
      ]
     },
     "metadata": {},
     "output_type": "display_data"
    },
    {
     "name": "stdout",
     "output_type": "stream",
     "text": [
      "Execution Time for Testing Set: 13.13 seconds\n"
     ]
    }
   ],
   "source": [
    "print('######-Model => RandomForestClassifier in Dataset 1')\n",
    "\n",
    "# Use hyperopt for RandomForestClassifier\n",
    "trials_rf = Trials()\n",
    "best_rf = fmin(fn=lambda space: objective(space, RandomForestClassifier, x_train_1, y_train_1, x_test_1, y_test_1),\n",
    "               space=space_rf,\n",
    "               algo=tpe.suggest,\n",
    "               max_evals=3,\n",
    "               trials=trials_rf)\n",
    "best_params_rf = space_eval(space_rf, best_rf)\n",
    "\n",
    "# Print the best parameters\n",
    "print(\"Best Parameters:\", best_params_rf)\n",
    "\n",
    "random_state_value = 39\n",
    "model_rf = RandomForestClassifier(**best_params_rf, random_state=random_state_value)\n",
    "model_rf.fit(x_train_1, y_train_1)\n",
    "\n",
    "# Start timing\n",
    "start_time = time.time()\n",
    "\n",
    "# Evaluate and display results for RandomForestClassifier\n",
    "evaluate_model(model_rf, x_test_1, y_test_1)\n",
    "\n",
    "# End timing and print execution time\n",
    "execution_time = time.time() - start_time\n",
    "print(\"Execution Time for Testing Set: {:.2f} seconds\".format(execution_time))"
   ]
  },
  {
   "cell_type": "code",
   "execution_count": null,
   "id": "a4605cf2",
   "metadata": {
    "id": "a4605cf2",
    "outputId": "f8fb62f5-1c73-44b8-f318-b6cd7ba89d93",
    "scrolled": true
   },
   "outputs": [
    {
     "name": "stdout",
     "output_type": "stream",
     "text": [
      "######-Model => RandomForestClassifier in Dataset 2\n",
      "Test Accuracy: 84.8238%\n",
      "Classification Report:\n",
      "              precision    recall  f1-score   support\n",
      "\n",
      "           0       0.92      0.88      0.90    117937\n",
      "           1       0.64      0.75      0.69     34222\n",
      "\n",
      "    accuracy                           0.85    152159\n",
      "   macro avg       0.78      0.81      0.79    152159\n",
      "weighted avg       0.86      0.85      0.85    152159\n",
      "\n",
      "Confusion Matrix:\n"
     ]
    },
    {
     "data": {
      "image/png": "[encoded data removed]",
      "text/plain": [
       "<Figure size 640x480 with 2 Axes>"
      ]
     },
     "metadata": {},
     "output_type": "display_data"
    },
    {
     "name": "stdout",
     "output_type": "stream",
     "text": [
      "Execution Time for Testing Set: 8.80 seconds\n"
     ]
    }
   ],
   "source": [
    "print('######-Model => RandomForestClassifier in Dataset 2')\n",
    "\n",
    "random_state_value = 39\n",
    "model_rf = RandomForestClassifier(**best_params_rf, random_state=random_state_value)\n",
    "model_rf.fit(x_train_2, y_train_2)\n",
    "\n",
    "# Start timing\n",
    "start_time = time.time()\n",
    "\n",
    "# Evaluate and display results for RandomForestClassifier\n",
    "evaluate_model(model_rf, x_test_2, y_test_2)\n",
    "\n",
    "# End timing and print execution time\n",
    "execution_time = time.time() - start_time\n",
    "print(\"Execution Time for Testing Set: {:.2f} seconds\".format(execution_time))"
   ]
  },
  {
   "cell_type": "code",
   "execution_count": null,
   "id": "cfb6429f",
   "metadata": {
    "id": "cfb6429f",
    "outputId": "fd00da4a-ecb3-4de5-e15f-efb94565fcd6",
    "scrolled": true
   },
   "outputs": [
    {
     "name": "stdout",
     "output_type": "stream",
     "text": [
      "######-Model => KNeighborsClassifier in Dataset 1\n",
      "100%|██████████| 3/3 [21:45<00:00, 435.08s/trial, best loss: -0.9561449115619378]\n",
      "Best Parameters: {'algorithm': 'auto', 'n_neighbors': 7, 'weights': 'distance'}\n",
      "Test Accuracy: 95.6145%\n",
      "Classification Report:\n",
      "              precision    recall  f1-score   support\n",
      "\n",
      "           0       0.98      0.97      0.97    128696\n",
      "           1       0.97      0.99      0.98     28447\n",
      "           2       0.84      0.89      0.86     28150\n",
      "           3       0.90      0.93      0.92      7045\n",
      "\n",
      "    accuracy                           0.96    192338\n",
      "   macro avg       0.93      0.94      0.93    192338\n",
      "weighted avg       0.96      0.96      0.96    192338\n",
      "\n",
      "Confusion Matrix:\n"
     ]
    },
    {
     "data": {
      "image/png": "[encoded data removed]",
      "text/plain": [
       "<Figure size 640x480 with 2 Axes>"
      ]
     },
     "metadata": {},
     "output_type": "display_data"
    },
    {
     "name": "stdout",
     "output_type": "stream",
     "text": [
      "Execution Time for Testing Set: 441.36 seconds\n"
     ]
    }
   ],
   "source": [
    "print('######-Model => KNeighborsClassifier in Dataset 1')\n",
    "\n",
    "# Use hyperopt for KNeighborsClassifier\n",
    "trials_knn = Trials()\n",
    "best_knn = fmin(fn=lambda space: objective(space, KNeighborsClassifier, x_train_1, y_train_1, x_test_1, y_test_1),\n",
    "                space=space_knn,\n",
    "                algo=tpe.suggest,\n",
    "                max_evals=3,\n",
    "                trials=trials_knn)\n",
    "best_params_knn = space_eval(space_knn, best_knn)\n",
    "\n",
    "# Print the best parameters\n",
    "print(\"Best Parameters:\", best_params_knn)\n",
    "\n",
    "model_knn = KNeighborsClassifier(**best_params_knn)\n",
    "model_knn.fit(x_train_1, y_train_1)\n",
    "\n",
    "# Start timing\n",
    "start_time = time.time()\n",
    "\n",
    "# Evaluate and display results for KNeighborsClassifier\n",
    "evaluate_model(model_knn, x_test_1, y_test_1)\n",
    "\n",
    "# End timing and print execution time\n",
    "execution_time = time.time() - start_time\n",
    "print(\"Execution Time for Testing Set: {:.2f} seconds\".format(execution_time))"
   ]
  },
  {
   "cell_type": "code",
   "execution_count": null,
   "id": "7ef179ce",
   "metadata": {
    "id": "7ef179ce",
    "outputId": "0b28f87c-0a22-4ad6-b40b-86e68fc3b281",
    "scrolled": true
   },
   "outputs": [
    {
     "name": "stdout",
     "output_type": "stream",
     "text": [
      "######-Model => KNeighborsClassifier in Dataset 2\n",
      "Test Accuracy: 90.4475%\n",
      "Classification Report:\n",
      "              precision    recall  f1-score   support\n",
      "\n",
      "           0       0.95      0.93      0.94    117937\n",
      "           1       0.77      0.82      0.79     34222\n",
      "\n",
      "    accuracy                           0.90    152159\n",
      "   macro avg       0.86      0.88      0.87    152159\n",
      "weighted avg       0.91      0.90      0.91    152159\n",
      "\n",
      "Confusion Matrix:\n"
     ]
    },
    {
     "data": {
      "image/png": "[encoded data removed]",
      "text/plain": [
       "<Figure size 640x480 with 2 Axes>"
      ]
     },
     "metadata": {},
     "output_type": "display_data"
    },
    {
     "name": "stdout",
     "output_type": "stream",
     "text": [
      "Execution Time for Testing Set: 151.16 seconds\n"
     ]
    }
   ],
   "source": [
    "print('######-Model => KNeighborsClassifier in Dataset 2')\n",
    "\n",
    "model_knn = KNeighborsClassifier(**best_params_knn)\n",
    "model_knn.fit(x_train_2, y_train_2)\n",
    "\n",
    "# Start timing\n",
    "start_time = time.time()\n",
    "\n",
    "# Evaluate and display results for KNeighborsClassifier\n",
    "evaluate_model(model_knn, x_test_2, y_test_2)\n",
    "\n",
    "# End timing and print execution time\n",
    "execution_time = time.time() - start_time\n",
    "print(\"Execution Time for Testing Set: {:.2f} seconds\".format(execution_time))"
   ]
  },
  {
   "cell_type": "code",
   "execution_count": null,
   "id": "ada4aa94",
   "metadata": {
    "id": "ada4aa94",
    "outputId": "628e87fc-c826-4a32-d104-e1c00965bfa4",
    "scrolled": true
   },
   "outputs": [
    {
     "name": "stdout",
     "output_type": "stream",
     "text": [
      "######-Model => DecisionTreeClassifier in Dataset 1\n",
      "100%|██████████| 3/3 [00:50<00:00, 16.81s/trial, best loss: -0.9559837369630546]\n",
      "Best Parameters: {'max_depth': None, 'min_samples_leaf': 1, 'min_samples_split': 10}\n",
      "Test Accuracy: 95.6046%\n",
      "Classification Report:\n",
      "              precision    recall  f1-score   support\n",
      "\n",
      "           0       0.97      0.97      0.97    128696\n",
      "           1       0.98      0.98      0.98     28447\n",
      "           2       0.86      0.86      0.86     28150\n",
      "           3       0.91      0.92      0.92      7045\n",
      "\n",
      "    accuracy                           0.96    192338\n",
      "   macro avg       0.93      0.93      0.93    192338\n",
      "weighted avg       0.96      0.96      0.96    192338\n",
      "\n",
      "Confusion Matrix:\n"
     ]
    },
    {
     "data": {
      "image/png": "[encoded data removed]",
      "text/plain": [
       "<Figure size 640x480 with 2 Axes>"
      ]
     },
     "metadata": {},
     "output_type": "display_data"
    },
    {
     "name": "stdout",
     "output_type": "stream",
     "text": [
      "Execution Time for Testing Set: 0.66 seconds\n"
     ]
    }
   ],
   "source": [
    "print('######-Model => DecisionTreeClassifier in Dataset 1')\n",
    "\n",
    "# Use hyperopt for DecisionTreeClassifier\n",
    "trials_dt = Trials()\n",
    "best_dt = fmin(fn=lambda space: objective(space, DecisionTreeClassifier, x_train_1, y_train_1, x_test_1, y_test_1),\n",
    "               space=space_dt,\n",
    "               algo=tpe.suggest,\n",
    "               max_evals=3,\n",
    "               trials=trials_dt)\n",
    "best_params_dt = space_eval(space_dt, best_dt)\n",
    "\n",
    "# Print the best parameters\n",
    "print(\"Best Parameters:\", best_params_dt)\n",
    "\n",
    "random_state_value = 39\n",
    "model_dt = DecisionTreeClassifier(**best_params_dt, random_state = random_state_value)\n",
    "model_dt.fit(x_train_1, y_train_1)\n",
    "\n",
    "# Start timing\n",
    "start_time = time.time()\n",
    "\n",
    "# Evaluate on the test set and display results\n",
    "evaluate_model(model_dt, x_test_1, y_test_1)\n",
    "\n",
    "# End timing and print execution time\n",
    "execution_time = time.time() - start_time\n",
    "print(\"Execution Time for Testing Set: {:.2f} seconds\".format(execution_time))"
   ]
  },
  {
   "cell_type": "code",
   "execution_count": null,
   "id": "347b40bb",
   "metadata": {
    "id": "347b40bb",
    "outputId": "f9477415-76ca-4644-e506-c19c60183771",
    "scrolled": true
   },
   "outputs": [
    {
     "name": "stdout",
     "output_type": "stream",
     "text": [
      "######-Model => DecisionTreeClassifier in Dataset 2\n",
      "Test Accuracy: 89.7443%\n",
      "Classification Report:\n",
      "              precision    recall  f1-score   support\n",
      "\n",
      "           0       0.93      0.93      0.93    117937\n",
      "           1       0.77      0.77      0.77     34222\n",
      "\n",
      "    accuracy                           0.90    152159\n",
      "   macro avg       0.85      0.85      0.85    152159\n",
      "weighted avg       0.90      0.90      0.90    152159\n",
      "\n",
      "Confusion Matrix:\n"
     ]
    },
    {
     "data": {
      "image/png": "[encoded data removed]",
      "text/plain": [
       "<Figure size 640x480 with 2 Axes>"
      ]
     },
     "metadata": {},
     "output_type": "display_data"
    },
    {
     "name": "stdout",
     "output_type": "stream",
     "text": [
      "Execution Time for Testing Set: 0.61 seconds\n"
     ]
    }
   ],
   "source": [
    "print('######-Model => DecisionTreeClassifier in Dataset 2')\n",
    "\n",
    "random_state_value = 39\n",
    "model_dt = DecisionTreeClassifier(**best_params_dt, random_state = random_state_value)\n",
    "model_dt.fit(x_train_2, y_train_2)\n",
    "\n",
    "# Start timing\n",
    "start_time = time.time()\n",
    "\n",
    "# Evaluate on the test set and display results\n",
    "evaluate_model(model_dt, x_test_2, y_test_2)\n",
    "\n",
    "# End timing and print execution time\n",
    "execution_time = time.time() - start_time\n",
    "print(\"Execution Time for Testing Set: {:.2f} seconds\".format(execution_time))"
   ]
  },
  {
   "cell_type": "code",
   "execution_count": null,
   "id": "171d08b1",
   "metadata": {
    "id": "171d08b1",
    "outputId": "71086f3e-e22f-49cd-d83e-8b5715cdb415",
    "scrolled": true
   },
   "outputs": [
    {
     "name": "stdout",
     "output_type": "stream",
     "text": [
      "######-Model => LogisticRegression in Dataset 1\n",
      "100%|██████████| 3/3 [02:11<00:00, 43.84s/trial, best loss: -0.8239401470328276]\n",
      "Best Parameters: {'C': 0.021217420162041326, 'max_iter': 500, 'solver': 'liblinear'}\n",
      "Test Accuracy: 82.3940%\n",
      "Classification Report:\n",
      "              precision    recall  f1-score   support\n",
      "\n",
      "           0       0.94      0.85      0.89    128696\n",
      "           1       0.80      0.95      0.87     28447\n",
      "           2       0.53      0.56      0.54     28150\n",
      "           3       0.51      0.86      0.64      7045\n",
      "\n",
      "    accuracy                           0.82    192338\n",
      "   macro avg       0.69      0.81      0.74    192338\n",
      "weighted avg       0.84      0.82      0.83    192338\n",
      "\n",
      "Confusion Matrix:\n"
     ]
    },
    {
     "data": {
      "image/png": "[encoded data removed]",
      "text/plain": [
       "<Figure size 640x480 with 2 Axes>"
      ]
     },
     "metadata": {},
     "output_type": "display_data"
    },
    {
     "name": "stdout",
     "output_type": "stream",
     "text": [
      "Execution Time for Testing Set: 0.63 seconds\n"
     ]
    }
   ],
   "source": [
    "print('######-Model => LogisticRegression in Dataset 1')\n",
    "\n",
    "# Use hyperopt for LogisticRegression\n",
    "trials_lr = Trials()\n",
    "best_lr = fmin(fn=lambda space: objective(space, LogisticRegression, x_train_1, y_train_1, x_test_1, y_test_1),\n",
    "               space=space_lr,\n",
    "               algo=tpe.suggest,\n",
    "               max_evals=3,\n",
    "               trials=trials_lr)\n",
    "best_params_lr = space_eval(space_lr, best_lr)\n",
    "\n",
    "# Print the best parameters\n",
    "print(\"Best Parameters:\", best_params_lr)\n",
    "\n",
    "# Create and fit the Logistic Regression model\n",
    "random_state_value = 39\n",
    "model_lr = LogisticRegression(**best_params_lr, random_state=random_state_value)\n",
    "model_lr.fit(x_train_1, y_train_1)\n",
    "\n",
    "# Start timing\n",
    "start_time = time.time()\n",
    "\n",
    "# Evaluate and display results for Logistic Regression\n",
    "evaluate_model(model_lr, x_test_1, y_test_1)\n",
    "\n",
    "# End timing and print execution time\n",
    "execution_time = time.time() - start_time\n",
    "print(\"Execution Time for Testing Set: {:.2f} seconds\".format(execution_time))"
   ]
  },
  {
   "cell_type": "code",
   "execution_count": null,
   "id": "db6b2f5b",
   "metadata": {
    "id": "db6b2f5b",
    "outputId": "fe561413-5906-4005-d2a8-5c23c8da4821",
    "scrolled": true
   },
   "outputs": [
    {
     "name": "stdout",
     "output_type": "stream",
     "text": [
      "######-Model => LogisticRegression in Dataset 2\n",
      "Test Accuracy: 74.6213%\n",
      "Classification Report:\n",
      "              precision    recall  f1-score   support\n",
      "\n",
      "           0       0.88      0.78      0.83    117937\n",
      "           1       0.45      0.64      0.53     34222\n",
      "\n",
      "    accuracy                           0.75    152159\n",
      "   macro avg       0.67      0.71      0.68    152159\n",
      "weighted avg       0.79      0.75      0.76    152159\n",
      "\n",
      "Confusion Matrix:\n"
     ]
    },
    {
     "data": {
      "image/png": "[encoded data removed]",
      "text/plain": [
       "<Figure size 640x480 with 2 Axes>"
      ]
     },
     "metadata": {},
     "output_type": "display_data"
    },
    {
     "name": "stdout",
     "output_type": "stream",
     "text": [
      "Execution Time for Testing Set: 0.45 seconds\n"
     ]
    }
   ],
   "source": [
    "print('######-Model => LogisticRegression in Dataset 2')\n",
    "\n",
    "# Create and fit the Logistic Regression model\n",
    "random_state_value = 39\n",
    "model_lr = LogisticRegression(**best_params_lr, random_state=random_state_value)\n",
    "model_lr.fit(x_train_2, y_train_2)\n",
    "\n",
    "# Start timing\n",
    "start_time = time.time()\n",
    "\n",
    "# Evaluate and display results for Logistic Regression\n",
    "evaluate_model(model_lr, x_test_2, y_test_2)\n",
    "\n",
    "# End timing and print execution time\n",
    "execution_time = time.time() - start_time\n",
    "print(\"Execution Time for Testing Set: {:.2f} seconds\".format(execution_time))"
   ]
  },
  {
   "cell_type": "code",
   "execution_count": null,
   "id": "b4feb10c",
   "metadata": {
    "id": "b4feb10c",
    "outputId": "cfe13654-34ff-40d5-b75e-42a12a6e301b",
    "scrolled": true
   },
   "outputs": [
    {
     "name": "stdout",
     "output_type": "stream",
     "text": [
      "######-Model => XGBClassifier in Dataset 1\n",
      "100%|██████████| 3/3 [06:48<00:00, 136.16s/trial, best loss: -0.9674687269286361]\n",
      "Best Parameters: {'colsample_bytree': 0.7154969125007966, 'learning_rate': 0.03708429517897321, 'max_depth': 13, 'n_estimators': 400, 'subsample': 0.5615996309887612}\n",
      "Test Accuracy: 96.7479%\n",
      "Classification Report:\n",
      "              precision    recall  f1-score   support\n",
      "\n",
      "           0       0.98      0.98      0.98    128696\n",
      "           1       0.98      0.99      0.99     28447\n",
      "           2       0.90      0.89      0.89     28150\n",
      "           3       0.97      0.93      0.95      7045\n",
      "\n",
      "    accuracy                           0.97    192338\n",
      "   macro avg       0.96      0.95      0.95    192338\n",
      "weighted avg       0.97      0.97      0.97    192338\n",
      "\n",
      "Confusion Matrix:\n"
     ]
    },
    {
     "data": {
      "image/png": "[encoded data removed]",
      "text/plain": [
       "<Figure size 640x480 with 2 Axes>"
      ]
     },
     "metadata": {},
     "output_type": "display_data"
    },
    {
     "name": "stdout",
     "output_type": "stream",
     "text": [
      "Execution Time for Testing Set: 8.36 seconds\n"
     ]
    }
   ],
   "source": [
    "print('######-Model => XGBClassifier in Dataset 1')\n",
    "\n",
    "# Use hyperopt for XGBClassifier\n",
    "trials_xgb = Trials()\n",
    "best_xgb = fmin(fn=lambda space: objective(space, xgb.XGBClassifier, x_train_1, y_train_1, x_test_1, y_test_1),\n",
    "                space=space_xgb,\n",
    "                algo=tpe.suggest,\n",
    "                max_evals=3,\n",
    "                trials=trials_xgb)\n",
    "best_params_xgb = space_eval(space_xgb, best_xgb)\n",
    "\n",
    "# Print the best parameters\n",
    "print(\"Best Parameters:\", best_params_xgb)\n",
    "\n",
    "random_state_value = 39\n",
    "model_xgb = xgb.XGBClassifier(**best_params_xgb, random_state = random_state_value)\n",
    "model_xgb.fit(x_train_1, y_train_1)\n",
    "\n",
    "# Start timing\n",
    "start_time = time.time()\n",
    "\n",
    "# Evaluate and display results for XGBClassifier\n",
    "evaluate_model(model_xgb, x_test_1, y_test_1)\n",
    "\n",
    "# End timing and print execution time\n",
    "execution_time = time.time() - start_time\n",
    "print(\"Execution Time for Testing Set: {:.2f} seconds\".format(execution_time))"
   ]
  },
  {
   "cell_type": "code",
   "execution_count": null,
   "id": "d4443b71",
   "metadata": {
    "id": "d4443b71",
    "outputId": "f8b27ddc-3fc7-4d21-a797-9370253786da",
    "scrolled": true
   },
   "outputs": [
    {
     "name": "stdout",
     "output_type": "stream",
     "text": [
      "######-Model => XGBClassifier in Dataset 2\n",
      "Test Accuracy: 91.5431%\n",
      "Classification Report:\n",
      "              precision    recall  f1-score   support\n",
      "\n",
      "           0       0.94      0.95      0.95    117937\n",
      "           1       0.82      0.80      0.81     34222\n",
      "\n",
      "    accuracy                           0.92    152159\n",
      "   macro avg       0.88      0.87      0.88    152159\n",
      "weighted avg       0.91      0.92      0.92    152159\n",
      "\n",
      "Confusion Matrix:\n"
     ]
    },
    {
     "data": {
      "image/png": "[encoded data removed]",
      "text/plain": [
       "<Figure size 640x480 with 2 Axes>"
      ]
     },
     "metadata": {},
     "output_type": "display_data"
    },
    {
     "name": "stdout",
     "output_type": "stream",
     "text": [
      "Execution Time for Testing Set: 1.86 seconds\n"
     ]
    }
   ],
   "source": [
    "print('######-Model => XGBClassifier in Dataset 2')\n",
    "\n",
    "random_state_value = 39\n",
    "model_xgb = xgb.XGBClassifier(**best_params_xgb, random_state = random_state_value)\n",
    "model_xgb.fit(x_train_2, y_train_2)\n",
    "\n",
    "# Start timing\n",
    "start_time = time.time()\n",
    "\n",
    "# Evaluate and display results for XGBClassifier\n",
    "evaluate_model(model_xgb, x_test_2, y_test_2)\n",
    "\n",
    "# End timing and print execution time\n",
    "execution_time = time.time() - start_time\n",
    "print(\"Execution Time for Testing Set: {:.2f} seconds\".format(execution_time))"
   ]
  },
  {
   "cell_type": "code",
   "execution_count": null,
   "id": "67bd56ab",
   "metadata": {
    "id": "67bd56ab",
    "outputId": "49e20503-21d3-4b33-c9e3-6cd12949df2e",
    "scrolled": true
   },
   "outputs": [
    {
     "name": "stdout",
     "output_type": "stream",
     "text": [
      "######-Model => LGBMClassifier in Dataset 1\n",
      "[LightGBM] [Info] Auto-choosing row-wise multi-threading, the overhead of testing was 0.055496 seconds.\n",
      "You can set `force_row_wise=true` to remove the overhead.\n",
      "And if memory is not enough, you can set `force_col_wise=true`.\n",
      "[LightGBM] [Info] Total Bins 3250                    \n",
      "[LightGBM] [Info] Number of data points in the train set: 1197536, number of used features: 19\n",
      "[LightGBM] [Info] Start training from score -1.386294\n",
      "[LightGBM] [Info] Start training from score -1.386294\n",
      "[LightGBM] [Info] Start training from score -1.386294\n",
      "[LightGBM] [Info] Start training from score -1.386294\n",
      "[LightGBM] [Warning] Accuracy may be bad since you didn't explicitly set num_leaves OR 2^max_depth > num_leaves. (num_leaves=31).\n",
      "[LightGBM] [Warning] Accuracy may be bad since you didn't explicitly set num_leaves OR 2^max_depth > num_leaves. (num_leaves=31).\n",
      "[LightGBM] [Info] Auto-choosing row-wise multi-threading, the overhead of testing was 0.055016 seconds.\n",
      "You can set `force_row_wise=true` to remove the overhead.\n",
      "And if memory is not enough, you can set `force_col_wise=true`.\n",
      "[LightGBM] [Info] Total Bins 3250                                                \n",
      "[LightGBM] [Info] Number of data points in the train set: 1197536, number of used features: 19\n",
      "[LightGBM] [Info] Start training from score -1.386294                            \n",
      "[LightGBM] [Info] Start training from score -1.386294                            \n",
      "[LightGBM] [Info] Start training from score -1.386294                            \n",
      "[LightGBM] [Info] Start training from score -1.386294                            \n",
      "[LightGBM] [Warning] Accuracy may be bad since you didn't explicitly set num_leaves OR 2^max_depth > num_leaves. (num_leaves=31).\n",
      "[LightGBM] [Info] Auto-choosing row-wise multi-threading, the overhead of testing was 0.050264 seconds.\n",
      "You can set `force_row_wise=true` to remove the overhead.\n",
      "And if memory is not enough, you can set `force_col_wise=true`.\n",
      "[LightGBM] [Info] Total Bins 3250                                                \n",
      "[LightGBM] [Info] Number of data points in the train set: 1197536, number of used features: 19\n",
      "[LightGBM] [Info] Start training from score -1.386294                            \n",
      "[LightGBM] [Info] Start training from score -1.386294                            \n",
      "[LightGBM] [Info] Start training from score -1.386294                            \n",
      "[LightGBM] [Info] Start training from score -1.386294                            \n",
      "100%|██████████| 3/3 [05:48<00:00, 116.27s/trial, best loss: -0.9691792573490418]\n",
      "Best Parameters: {'learning_rate': 0.09952183212098217, 'max_depth': 35, 'n_estimators': 500, 'num_leaves': 100}\n",
      "[LightGBM] [Info] Auto-choosing row-wise multi-threading, the overhead of testing was 0.077889 seconds.\n",
      "You can set `force_row_wise=true` to remove the overhead.\n",
      "And if memory is not enough, you can set `force_col_wise=true`.\n",
      "[LightGBM] [Info] Total Bins 3260\n",
      "[LightGBM] [Info] Number of data points in the train set: 1197536, number of used features: 19\n",
      "[LightGBM] [Info] Start training from score -1.386294\n",
      "[LightGBM] [Info] Start training from score -1.386294\n",
      "[LightGBM] [Info] Start training from score -1.386294\n",
      "[LightGBM] [Info] Start training from score -1.386294\n",
      "Test Accuracy: 96.9101%\n",
      "Classification Report:\n",
      "              precision    recall  f1-score   support\n",
      "\n",
      "           0       0.98      0.98      0.98    128696\n",
      "           1       0.98      0.99      0.99     28447\n",
      "           2       0.91      0.88      0.90     28150\n",
      "           3       0.97      0.93      0.95      7045\n",
      "\n",
      "    accuracy                           0.97    192338\n",
      "   macro avg       0.96      0.95      0.95    192338\n",
      "weighted avg       0.97      0.97      0.97    192338\n",
      "\n",
      "Confusion Matrix:\n"
     ]
    },
    {
     "data": {
      "image/png": "[encoded data removed]",
      "text/plain": [
       "<Figure size 640x480 with 2 Axes>"
      ]
     },
     "metadata": {},
     "output_type": "display_data"
    },
    {
     "name": "stdout",
     "output_type": "stream",
     "text": [
      "Execution Time for Testing Set: 14.09 seconds\n"
     ]
    }
   ],
   "source": [
    "print('######-Model => LGBMClassifier in Dataset 1')\n",
    "\n",
    "# Use hyperopt for LGBMClassifier\n",
    "trials_lgb = Trials()\n",
    "best_lgb = fmin(fn=lambda space: objective(space, lgb.LGBMClassifier, x_train_1, y_train_1, x_test_1, y_test_1),\n",
    "                space=space_lgb,\n",
    "                algo=tpe.suggest,\n",
    "                max_evals=3,\n",
    "                trials=trials_lgb)\n",
    "best_params_lgb = space_eval(space_lgb, best_lgb)\n",
    "\n",
    "# Print the best parameters\n",
    "print(\"Best Parameters:\", best_params_lgb)\n",
    "\n",
    "random_state_value = 39\n",
    "model_lgb = lgb.LGBMClassifier(**best_params_lgb, random_state=random_state_value)\n",
    "model_lgb.fit(x_train_1, y_train_1)\n",
    "\n",
    "# Start timing\n",
    "start_time = time.time()\n",
    "\n",
    "# Evaluate and display results for LGBMClassifier\n",
    "evaluate_model(model_lgb, x_test_1, y_test_1)\n",
    "\n",
    "# End timing and print execution time\n",
    "execution_time = time.time() - start_time\n",
    "print(\"Execution Time for Testing Set: {:.2f} seconds\".format(execution_time))"
   ]
  },
  {
   "cell_type": "code",
   "execution_count": null,
   "id": "4310f042",
   "metadata": {
    "id": "4310f042",
    "outputId": "6d3e918d-0d0b-46ff-c9fa-9beb740d31e9",
    "scrolled": true
   },
   "outputs": [
    {
     "name": "stdout",
     "output_type": "stream",
     "text": [
      "######-Model => LGBMClassifier in Dataset 2\n",
      "[LightGBM] [Info] Number of positive: 274960, number of negative: 274960\n",
      "[LightGBM] [Info] Auto-choosing row-wise multi-threading, the overhead of testing was 0.021691 seconds.\n",
      "You can set `force_row_wise=true` to remove the overhead.\n",
      "And if memory is not enough, you can set `force_col_wise=true`.\n",
      "[LightGBM] [Info] Total Bins 3134\n",
      "[LightGBM] [Info] Number of data points in the train set: 549920, number of used features: 19\n",
      "[LightGBM] [Info] [binary:BoostFromScore]: pavg=0.500000 -> initscore=0.000000\n",
      "Test Accuracy: 91.7672%\n",
      "Classification Report:\n",
      "              precision    recall  f1-score   support\n",
      "\n",
      "           0       0.94      0.96      0.95    117937\n",
      "           1       0.84      0.78      0.81     34222\n",
      "\n",
      "    accuracy                           0.92    152159\n",
      "   macro avg       0.89      0.87      0.88    152159\n",
      "weighted avg       0.92      0.92      0.92    152159\n",
      "\n",
      "Confusion Matrix:\n"
     ]
    },
    {
     "data": {
      "image/png": "[encoded data removed]",
      "text/plain": [
       "<Figure size 640x480 with 2 Axes>"
      ]
     },
     "metadata": {},
     "output_type": "display_data"
    },
    {
     "name": "stdout",
     "output_type": "stream",
     "text": [
      "Execution Time for Testing Set: 2.19 seconds\n"
     ]
    }
   ],
   "source": [
    "print('######-Model => LGBMClassifier in Dataset 2')\n",
    "\n",
    "random_state_value = 39\n",
    "model_lgb = lgb.LGBMClassifier(**best_params_lgb, random_state = random_state_value)\n",
    "\n",
    "# Fit the model on the entire training set\n",
    "model_lgb.fit(x_train_2, y_train_2)\n",
    "\n",
    "# Start timing\n",
    "start_time = time.time()\n",
    "\n",
    "# Evaluate and display results for LGBMClassifier\n",
    "evaluate_model(model_lgb, x_test_2, y_test_2)\n",
    "\n",
    "# End timing and print execution time\n",
    "execution_time = time.time() - start_time\n",
    "print(\"Execution Time for Testing Set: {:.2f} seconds\".format(execution_time))"
   ]
  },
  {
   "cell_type": "code",
   "execution_count": null,
   "id": "b63d6f50",
   "metadata": {
    "id": "b63d6f50",
    "outputId": "118a8dcf-a735-4e8d-c53f-c7ca729793bc"
   },
   "outputs": [
    {
     "data": {
      "image/png": "[encoded data removed]",
      "text/plain": [
       "<Figure size 1200x600 with 1 Axes>"
      ]
     },
     "metadata": {},
     "output_type": "display_data"
    }
   ],
   "source": [
    "# Model names\n",
    "models = [\"Random Forest\", \"Logistic Regression\", \"KNN\", \"XGBoost\", \"Decision Tree\", \"Light GBM\"]\n",
    "\n",
    "# Accuracy values for each model in Dataset 1 and Dataset 2\n",
    "accuracy_dataset1 = [94.4452, 82.3940, 95.6145, 96.7479, 95.6046, 96.9101]\n",
    "accuracy_dataset2 = [84.8238, 74.6213, 90.4475, 91.5431, 89.7443, 91.7672]\n",
    "\n",
    "# Combine models and accuracies into tuples and sort them by the average accuracy\n",
    "combined = sorted(zip(models, accuracy_dataset1, accuracy_dataset2), key=lambda x: (x[1]+x[2])/2, reverse=True)\n",
    "\n",
    "# Unzip the sorted tuples\n",
    "sorted_models, sorted_accuracy_dataset1, sorted_accuracy_dataset2 = zip(*combined)\n",
    "\n",
    "# Setting the positions and width for the bars\n",
    "pos = np.arange(len(sorted_models))\n",
    "bar_width = 0.35\n",
    "\n",
    "# Plotting the bars\n",
    "plt.figure(figsize=(12, 6))\n",
    "\n",
    "# Creating bars for Dataset 1\n",
    "plt.bar(pos, sorted_accuracy_dataset1, bar_width, color='#00A9FF', label='Dataset 1')\n",
    "\n",
    "# Creating bars for Dataset 2\n",
    "plt.bar(pos + bar_width, sorted_accuracy_dataset2, bar_width, color='#89CFF3', label='Dataset 2')\n",
    "\n",
    "# Adding the model names to the x-axis\n",
    "plt.xticks(pos + bar_width / 2, sorted_models)\n",
    "\n",
    "# Adding axis labels and title\n",
    "plt.xlabel('Models')\n",
    "plt.ylabel('Accuracy (%)')\n",
    "plt.title('Comparison of Model Accuracies')\n",
    "\n",
    "# Adding a legend\n",
    "plt.legend()\n",
    "\n",
    "# Displaying the plot\n",
    "plt.show()"
   ]
  },
  {
   "cell_type": "code",
   "execution_count": null,
   "id": "429e4d9e",
   "metadata": {
    "id": "429e4d9e",
    "outputId": "75aa05b6-f87c-4048-b4f8-8109387e7a1f"
   },
   "outputs": [
    {
     "data": {
      "image/png": "[encoded data removed]",
      "text/plain": [
       "<Figure size 800x600 with 1 Axes>"
      ]
     },
     "metadata": {},
     "output_type": "display_data"
    }
   ],
   "source": [
    "from sklearn.preprocessing import label_binarize\n",
    "from sklearn.metrics import roc_curve, auc\n",
    "import matplotlib.pyplot as plt\n",
    "from xgboost import XGBClassifier\n",
    "\n",
    "# Initialize and train the XGBoost model\n",
    "xgboost_classifier = XGBClassifier()\n",
    "xgboost_classifier.fit(x_train_1, y_train_1)\n",
    "\n",
    "# y_test_1 is multiclass, need to binarize\n",
    "y_test_binarized = label_binarize(y_test_1, classes=[0, 1, 2, 3])[:, 1]\n",
    "\n",
    "# Predict probabilities for the positive class\n",
    "y_scores_1 = xgboost_classifier.predict_proba(x_test_1)[:, 1]\n",
    "\n",
    "# Use y_test_binarized for ROC curve calculation\n",
    "fpr, tpr, thresholds = roc_curve(y_test_binarized, y_scores_1)\n",
    "roc_auc = auc(fpr, tpr)\n",
    "\n",
    "plt.figure(figsize=(8, 6))\n",
    "plt.plot(fpr, tpr, color='darkorange', lw=2, label='ROC curve (area = %0.2f)' % roc_auc)\n",
    "plt.plot([0, 1], [0, 1], color='navy', lw=2, linestyle='--')\n",
    "plt.xlim([0.0, 1.0])\n",
    "plt.ylim([0.0, 1.05])\n",
    "plt.xlabel('False Positive Rate')\n",
    "plt.ylabel('True Positive Rate')\n",
    "plt.title('ROC Curve for XGBoost in Dataset 1')\n",
    "plt.legend(loc='lower right')\n",
    "\n",
    "# Display the ROC curve\n",
    "plt.show()"
   ]
  },
  {
   "cell_type": "code",
   "execution_count": null,
   "id": "b76cc81a",
   "metadata": {
    "id": "b76cc81a",
    "outputId": "05ec8cdd-4f71-43fe-9702-80125eabc1a7"
   },
   "outputs": [
    {
     "data": {
      "image/png": "[encoded data removed]",
      "text/plain": [
       "<Figure size 800x600 with 1 Axes>"
      ]
     },
     "metadata": {},
     "output_type": "display_data"
    }
   ],
   "source": [
    "# Initialize and train the XGBoost model\n",
    "xgboost_classifier = XGBClassifier()\n",
    "xgboost_classifier.fit(x_train_2, y_train_2)\n",
    "\n",
    "# y_test_2 is multiclass, need to binarize\n",
    "y_test_binarized = label_binarize(y_test_2, classes=[0, 1, 2, 3])[:, 1]\n",
    "\n",
    "# Predict probabilities for the positive class\n",
    "y_scores_2 = xgboost_classifier.predict_proba(x_test_2)[:, 1]\n",
    "\n",
    "# Use y_test_binarized for ROC curve calculation\n",
    "fpr, tpr, thresholds = roc_curve(y_test_binarized, y_scores_2)\n",
    "roc_auc = auc(fpr, tpr)\n",
    "\n",
    "plt.figure(figsize=(8, 6))\n",
    "plt.plot(fpr, tpr, color='darkorange', lw=2, label='ROC curve (area = %0.2f)' % roc_auc)\n",
    "plt.plot([0, 1], [0, 1], color='navy', lw=2, linestyle='--')\n",
    "plt.xlim([0.0, 1.0])\n",
    "plt.ylim([0.0, 1.05])\n",
    "plt.xlabel('False Positive Rate')\n",
    "plt.ylabel('True Positive Rate')\n",
    "plt.title('ROC Curve for XGBoost in Dataset 2')\n",
    "plt.legend(loc='lower right')\n",
    "\n",
    "# Display the ROC curve\n",
    "plt.show()"
   ]
  }
 ],
 "metadata": {
  "colab": {
   "provenance": []
  },
  "kernelspec": {
   "display_name": "Python 3 (ipykernel)",
   "language": "python",
   "name": "python3"
  },
  "language_info": {
   "codemirror_mode": {
    "name": "ipython",
    "version": 3
   },
   "file_extension": ".py",
   "mimetype": "text/x-python",
   "name": "python",
   "nbconvert_exporter": "python",
   "pygments_lexer": "ipython3",
   "version": "3.10.11"
  }
 },
 "nbformat": 4,
 "nbformat_minor": 5
}
